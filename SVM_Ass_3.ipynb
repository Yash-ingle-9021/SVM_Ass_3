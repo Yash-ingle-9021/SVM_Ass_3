{
 "cells": [
  {
   "cell_type": "markdown",
   "id": "4098872b-cbf3-4506-b55c-55ad5454c78b",
   "metadata": {},
   "source": [
    "# Support Vector Machine Assignment 3"
   ]
  },
  {
   "cell_type": "code",
   "execution_count": 1,
   "id": "b0842376-a199-4f4e-9586-e5ae924242f1",
   "metadata": {},
   "outputs": [],
   "source": [
    "import pandas as pd\n",
    "import numpy as np\n",
    "import seaborn as sns\n",
    "import matplotlib.pyplot as plt\n",
    "from sklearn.preprocessing import MinMaxScaler"
   ]
  },
  {
   "cell_type": "code",
   "execution_count": 2,
   "id": "e06057a2-6214-4f15-a1c7-310ab0d4f79c",
   "metadata": {},
   "outputs": [
    {
     "data": {
      "text/html": [
       "<div>\n",
       "<style scoped>\n",
       "    .dataframe tbody tr th:only-of-type {\n",
       "        vertical-align: middle;\n",
       "    }\n",
       "\n",
       "    .dataframe tbody tr th {\n",
       "        vertical-align: top;\n",
       "    }\n",
       "\n",
       "    .dataframe thead th {\n",
       "        text-align: right;\n",
       "    }\n",
       "</style>\n",
       "<table border=\"1\" class=\"dataframe\">\n",
       "  <thead>\n",
       "    <tr style=\"text-align: right;\">\n",
       "      <th></th>\n",
       "      <th>area_type</th>\n",
       "      <th>availability</th>\n",
       "      <th>location</th>\n",
       "      <th>size</th>\n",
       "      <th>society</th>\n",
       "      <th>total_sqft</th>\n",
       "      <th>bath</th>\n",
       "      <th>balcony</th>\n",
       "      <th>price</th>\n",
       "    </tr>\n",
       "  </thead>\n",
       "  <tbody>\n",
       "    <tr>\n",
       "      <th>0</th>\n",
       "      <td>Super built-up  Area</td>\n",
       "      <td>19-Dec</td>\n",
       "      <td>Electronic City Phase II</td>\n",
       "      <td>2 BHK</td>\n",
       "      <td>Coomee</td>\n",
       "      <td>1056</td>\n",
       "      <td>2.0</td>\n",
       "      <td>1.0</td>\n",
       "      <td>39.07</td>\n",
       "    </tr>\n",
       "    <tr>\n",
       "      <th>1</th>\n",
       "      <td>Plot  Area</td>\n",
       "      <td>Ready To Move</td>\n",
       "      <td>Chikka Tirupathi</td>\n",
       "      <td>4 Bedroom</td>\n",
       "      <td>Theanmp</td>\n",
       "      <td>2600</td>\n",
       "      <td>5.0</td>\n",
       "      <td>3.0</td>\n",
       "      <td>120.00</td>\n",
       "    </tr>\n",
       "    <tr>\n",
       "      <th>2</th>\n",
       "      <td>Built-up  Area</td>\n",
       "      <td>Ready To Move</td>\n",
       "      <td>Uttarahalli</td>\n",
       "      <td>3 BHK</td>\n",
       "      <td>NaN</td>\n",
       "      <td>1440</td>\n",
       "      <td>2.0</td>\n",
       "      <td>3.0</td>\n",
       "      <td>62.00</td>\n",
       "    </tr>\n",
       "    <tr>\n",
       "      <th>3</th>\n",
       "      <td>Super built-up  Area</td>\n",
       "      <td>Ready To Move</td>\n",
       "      <td>Lingadheeranahalli</td>\n",
       "      <td>3 BHK</td>\n",
       "      <td>Soiewre</td>\n",
       "      <td>1521</td>\n",
       "      <td>3.0</td>\n",
       "      <td>1.0</td>\n",
       "      <td>95.00</td>\n",
       "    </tr>\n",
       "    <tr>\n",
       "      <th>4</th>\n",
       "      <td>Super built-up  Area</td>\n",
       "      <td>Ready To Move</td>\n",
       "      <td>Kothanur</td>\n",
       "      <td>2 BHK</td>\n",
       "      <td>NaN</td>\n",
       "      <td>1200</td>\n",
       "      <td>2.0</td>\n",
       "      <td>1.0</td>\n",
       "      <td>51.00</td>\n",
       "    </tr>\n",
       "  </tbody>\n",
       "</table>\n",
       "</div>"
      ],
      "text/plain": [
       "              area_type   availability                  location       size  \\\n",
       "0  Super built-up  Area         19-Dec  Electronic City Phase II      2 BHK   \n",
       "1            Plot  Area  Ready To Move          Chikka Tirupathi  4 Bedroom   \n",
       "2        Built-up  Area  Ready To Move               Uttarahalli      3 BHK   \n",
       "3  Super built-up  Area  Ready To Move        Lingadheeranahalli      3 BHK   \n",
       "4  Super built-up  Area  Ready To Move                  Kothanur      2 BHK   \n",
       "\n",
       "   society total_sqft  bath  balcony   price  \n",
       "0  Coomee        1056   2.0      1.0   39.07  \n",
       "1  Theanmp       2600   5.0      3.0  120.00  \n",
       "2      NaN       1440   2.0      3.0   62.00  \n",
       "3  Soiewre       1521   3.0      1.0   95.00  \n",
       "4      NaN       1200   2.0      1.0   51.00  "
      ]
     },
     "execution_count": 2,
     "metadata": {},
     "output_type": "execute_result"
    }
   ],
   "source": [
    "df = pd.read_csv('https://raw.githubusercontent.com/MasteriNeuron/dummy/main/Bengaluru_House_Data.csv')\n",
    "df.head()"
   ]
  },
  {
   "cell_type": "code",
   "execution_count": 3,
   "id": "fd670b12-88ac-4cf4-8076-6a2068ecaa2c",
   "metadata": {},
   "outputs": [
    {
     "data": {
      "text/html": [
       "<div>\n",
       "<style scoped>\n",
       "    .dataframe tbody tr th:only-of-type {\n",
       "        vertical-align: middle;\n",
       "    }\n",
       "\n",
       "    .dataframe tbody tr th {\n",
       "        vertical-align: top;\n",
       "    }\n",
       "\n",
       "    .dataframe thead th {\n",
       "        text-align: right;\n",
       "    }\n",
       "</style>\n",
       "<table border=\"1\" class=\"dataframe\">\n",
       "  <thead>\n",
       "    <tr style=\"text-align: right;\">\n",
       "      <th></th>\n",
       "      <th>area_type</th>\n",
       "      <th>availability</th>\n",
       "      <th>location</th>\n",
       "      <th>size</th>\n",
       "      <th>society</th>\n",
       "      <th>total_sqft</th>\n",
       "      <th>bath</th>\n",
       "      <th>balcony</th>\n",
       "      <th>price</th>\n",
       "    </tr>\n",
       "  </thead>\n",
       "  <tbody>\n",
       "    <tr>\n",
       "      <th>13315</th>\n",
       "      <td>Built-up  Area</td>\n",
       "      <td>Ready To Move</td>\n",
       "      <td>Whitefield</td>\n",
       "      <td>5 Bedroom</td>\n",
       "      <td>ArsiaEx</td>\n",
       "      <td>3453</td>\n",
       "      <td>4.0</td>\n",
       "      <td>0.0</td>\n",
       "      <td>231.0</td>\n",
       "    </tr>\n",
       "    <tr>\n",
       "      <th>13316</th>\n",
       "      <td>Super built-up  Area</td>\n",
       "      <td>Ready To Move</td>\n",
       "      <td>Richards Town</td>\n",
       "      <td>4 BHK</td>\n",
       "      <td>NaN</td>\n",
       "      <td>3600</td>\n",
       "      <td>5.0</td>\n",
       "      <td>NaN</td>\n",
       "      <td>400.0</td>\n",
       "    </tr>\n",
       "    <tr>\n",
       "      <th>13317</th>\n",
       "      <td>Built-up  Area</td>\n",
       "      <td>Ready To Move</td>\n",
       "      <td>Raja Rajeshwari Nagar</td>\n",
       "      <td>2 BHK</td>\n",
       "      <td>Mahla T</td>\n",
       "      <td>1141</td>\n",
       "      <td>2.0</td>\n",
       "      <td>1.0</td>\n",
       "      <td>60.0</td>\n",
       "    </tr>\n",
       "    <tr>\n",
       "      <th>13318</th>\n",
       "      <td>Super built-up  Area</td>\n",
       "      <td>18-Jun</td>\n",
       "      <td>Padmanabhanagar</td>\n",
       "      <td>4 BHK</td>\n",
       "      <td>SollyCl</td>\n",
       "      <td>4689</td>\n",
       "      <td>4.0</td>\n",
       "      <td>1.0</td>\n",
       "      <td>488.0</td>\n",
       "    </tr>\n",
       "    <tr>\n",
       "      <th>13319</th>\n",
       "      <td>Super built-up  Area</td>\n",
       "      <td>Ready To Move</td>\n",
       "      <td>Doddathoguru</td>\n",
       "      <td>1 BHK</td>\n",
       "      <td>NaN</td>\n",
       "      <td>550</td>\n",
       "      <td>1.0</td>\n",
       "      <td>1.0</td>\n",
       "      <td>17.0</td>\n",
       "    </tr>\n",
       "  </tbody>\n",
       "</table>\n",
       "</div>"
      ],
      "text/plain": [
       "                  area_type   availability               location       size  \\\n",
       "13315        Built-up  Area  Ready To Move             Whitefield  5 Bedroom   \n",
       "13316  Super built-up  Area  Ready To Move          Richards Town      4 BHK   \n",
       "13317        Built-up  Area  Ready To Move  Raja Rajeshwari Nagar      2 BHK   \n",
       "13318  Super built-up  Area         18-Jun        Padmanabhanagar      4 BHK   \n",
       "13319  Super built-up  Area  Ready To Move           Doddathoguru      1 BHK   \n",
       "\n",
       "       society total_sqft  bath  balcony  price  \n",
       "13315  ArsiaEx       3453   4.0      0.0  231.0  \n",
       "13316      NaN       3600   5.0      NaN  400.0  \n",
       "13317  Mahla T       1141   2.0      1.0   60.0  \n",
       "13318  SollyCl       4689   4.0      1.0  488.0  \n",
       "13319      NaN        550   1.0      1.0   17.0  "
      ]
     },
     "execution_count": 3,
     "metadata": {},
     "output_type": "execute_result"
    }
   ],
   "source": [
    "df.tail()"
   ]
  },
  {
   "cell_type": "code",
   "execution_count": 4,
   "id": "f71b84f4-fde6-43ca-8616-a6cd36361e3d",
   "metadata": {},
   "outputs": [
    {
     "name": "stdout",
     "output_type": "stream",
     "text": [
      "<class 'pandas.core.frame.DataFrame'>\n",
      "RangeIndex: 13320 entries, 0 to 13319\n",
      "Data columns (total 9 columns):\n",
      " #   Column        Non-Null Count  Dtype  \n",
      "---  ------        --------------  -----  \n",
      " 0   area_type     13320 non-null  object \n",
      " 1   availability  13320 non-null  object \n",
      " 2   location      13319 non-null  object \n",
      " 3   size          13304 non-null  object \n",
      " 4   society       7818 non-null   object \n",
      " 5   total_sqft    13320 non-null  object \n",
      " 6   bath          13247 non-null  float64\n",
      " 7   balcony       12711 non-null  float64\n",
      " 8   price         13320 non-null  float64\n",
      "dtypes: float64(3), object(6)\n",
      "memory usage: 936.7+ KB\n"
     ]
    }
   ],
   "source": [
    "df.info()"
   ]
  },
  {
   "cell_type": "code",
   "execution_count": 5,
   "id": "d3b49d9b-1432-47ae-a305-52dbddbff0cb",
   "metadata": {},
   "outputs": [],
   "source": [
    "new = df['size'].str.split(\" \", n = 1, expand = True)"
   ]
  },
  {
   "cell_type": "code",
   "execution_count": 6,
   "id": "2d7c437d-6ab3-4248-a614-3f57241bff5c",
   "metadata": {},
   "outputs": [],
   "source": [
    "df['size'] = new[0]"
   ]
  },
  {
   "cell_type": "code",
   "execution_count": 7,
   "id": "cdb87154-09f6-4e44-9168-c5f94c28b4c5",
   "metadata": {},
   "outputs": [
    {
     "data": {
      "text/html": [
       "<div>\n",
       "<style scoped>\n",
       "    .dataframe tbody tr th:only-of-type {\n",
       "        vertical-align: middle;\n",
       "    }\n",
       "\n",
       "    .dataframe tbody tr th {\n",
       "        vertical-align: top;\n",
       "    }\n",
       "\n",
       "    .dataframe thead th {\n",
       "        text-align: right;\n",
       "    }\n",
       "</style>\n",
       "<table border=\"1\" class=\"dataframe\">\n",
       "  <thead>\n",
       "    <tr style=\"text-align: right;\">\n",
       "      <th></th>\n",
       "      <th>area_type</th>\n",
       "      <th>availability</th>\n",
       "      <th>location</th>\n",
       "      <th>size</th>\n",
       "      <th>society</th>\n",
       "      <th>total_sqft</th>\n",
       "      <th>bath</th>\n",
       "      <th>balcony</th>\n",
       "      <th>price</th>\n",
       "    </tr>\n",
       "  </thead>\n",
       "  <tbody>\n",
       "    <tr>\n",
       "      <th>0</th>\n",
       "      <td>Super built-up  Area</td>\n",
       "      <td>19-Dec</td>\n",
       "      <td>Electronic City Phase II</td>\n",
       "      <td>2</td>\n",
       "      <td>Coomee</td>\n",
       "      <td>1056</td>\n",
       "      <td>2.0</td>\n",
       "      <td>1.0</td>\n",
       "      <td>39.07</td>\n",
       "    </tr>\n",
       "    <tr>\n",
       "      <th>1</th>\n",
       "      <td>Plot  Area</td>\n",
       "      <td>Ready To Move</td>\n",
       "      <td>Chikka Tirupathi</td>\n",
       "      <td>4</td>\n",
       "      <td>Theanmp</td>\n",
       "      <td>2600</td>\n",
       "      <td>5.0</td>\n",
       "      <td>3.0</td>\n",
       "      <td>120.00</td>\n",
       "    </tr>\n",
       "    <tr>\n",
       "      <th>2</th>\n",
       "      <td>Built-up  Area</td>\n",
       "      <td>Ready To Move</td>\n",
       "      <td>Uttarahalli</td>\n",
       "      <td>3</td>\n",
       "      <td>NaN</td>\n",
       "      <td>1440</td>\n",
       "      <td>2.0</td>\n",
       "      <td>3.0</td>\n",
       "      <td>62.00</td>\n",
       "    </tr>\n",
       "    <tr>\n",
       "      <th>3</th>\n",
       "      <td>Super built-up  Area</td>\n",
       "      <td>Ready To Move</td>\n",
       "      <td>Lingadheeranahalli</td>\n",
       "      <td>3</td>\n",
       "      <td>Soiewre</td>\n",
       "      <td>1521</td>\n",
       "      <td>3.0</td>\n",
       "      <td>1.0</td>\n",
       "      <td>95.00</td>\n",
       "    </tr>\n",
       "    <tr>\n",
       "      <th>4</th>\n",
       "      <td>Super built-up  Area</td>\n",
       "      <td>Ready To Move</td>\n",
       "      <td>Kothanur</td>\n",
       "      <td>2</td>\n",
       "      <td>NaN</td>\n",
       "      <td>1200</td>\n",
       "      <td>2.0</td>\n",
       "      <td>1.0</td>\n",
       "      <td>51.00</td>\n",
       "    </tr>\n",
       "  </tbody>\n",
       "</table>\n",
       "</div>"
      ],
      "text/plain": [
       "              area_type   availability                  location size  \\\n",
       "0  Super built-up  Area         19-Dec  Electronic City Phase II    2   \n",
       "1            Plot  Area  Ready To Move          Chikka Tirupathi    4   \n",
       "2        Built-up  Area  Ready To Move               Uttarahalli    3   \n",
       "3  Super built-up  Area  Ready To Move        Lingadheeranahalli    3   \n",
       "4  Super built-up  Area  Ready To Move                  Kothanur    2   \n",
       "\n",
       "   society total_sqft  bath  balcony   price  \n",
       "0  Coomee        1056   2.0      1.0   39.07  \n",
       "1  Theanmp       2600   5.0      3.0  120.00  \n",
       "2      NaN       1440   2.0      3.0   62.00  \n",
       "3  Soiewre       1521   3.0      1.0   95.00  \n",
       "4      NaN       1200   2.0      1.0   51.00  "
      ]
     },
     "execution_count": 7,
     "metadata": {},
     "output_type": "execute_result"
    }
   ],
   "source": [
    "df.head()"
   ]
  },
  {
   "cell_type": "code",
   "execution_count": 8,
   "id": "9b233045-b30f-4848-8fdc-85f0e15fb6eb",
   "metadata": {},
   "outputs": [
    {
     "data": {
      "text/plain": [
       "0        2\n",
       "1        4\n",
       "2        3\n",
       "3        3\n",
       "4        2\n",
       "        ..\n",
       "13315    5\n",
       "13316    4\n",
       "13317    2\n",
       "13318    4\n",
       "13319    1\n",
       "Name: size, Length: 13320, dtype: object"
      ]
     },
     "execution_count": 8,
     "metadata": {},
     "output_type": "execute_result"
    }
   ],
   "source": [
    "df['size'].fillna(0)"
   ]
  },
  {
   "cell_type": "code",
   "execution_count": 9,
   "id": "f5fb62ff-6ebe-4766-9726-6995b7ac430b",
   "metadata": {},
   "outputs": [],
   "source": [
    "df['size'] = df['size'].astype(float)"
   ]
  },
  {
   "cell_type": "code",
   "execution_count": 10,
   "id": "c233f9a5-f89f-43d5-b355-ac020d8167e4",
   "metadata": {},
   "outputs": [
    {
     "name": "stdout",
     "output_type": "stream",
     "text": [
      "<class 'pandas.core.frame.DataFrame'>\n",
      "RangeIndex: 13320 entries, 0 to 13319\n",
      "Data columns (total 9 columns):\n",
      " #   Column        Non-Null Count  Dtype  \n",
      "---  ------        --------------  -----  \n",
      " 0   area_type     13320 non-null  object \n",
      " 1   availability  13320 non-null  object \n",
      " 2   location      13319 non-null  object \n",
      " 3   size          13304 non-null  float64\n",
      " 4   society       7818 non-null   object \n",
      " 5   total_sqft    13320 non-null  object \n",
      " 6   bath          13247 non-null  float64\n",
      " 7   balcony       12711 non-null  float64\n",
      " 8   price         13320 non-null  float64\n",
      "dtypes: float64(4), object(5)\n",
      "memory usage: 936.7+ KB\n"
     ]
    }
   ],
   "source": [
    "df.info()"
   ]
  },
  {
   "cell_type": "code",
   "execution_count": 11,
   "id": "a53a43e9-fc5e-4212-bccf-18662308a056",
   "metadata": {},
   "outputs": [],
   "source": [
    "# df_cat = df.select_dtypes(np.object)\n",
    "# df_num = df.select_dtypes(np.number)"
   ]
  },
  {
   "cell_type": "code",
   "execution_count": 12,
   "id": "1b6256e8-3e5b-47e5-b08b-83a8fd7842d1",
   "metadata": {},
   "outputs": [],
   "source": [
    "def convert_sqft_to_num(x):\n",
    "    tokens = x.split(' - ')\n",
    "    if len(tokens) == 2:\n",
    "        return (float(tokens[0]) + float(tokens[1])) / 2\n",
    "    try:\n",
    "        return float(x)\n",
    "    except:\n",
    "        return None\n",
    "\n",
    "df['total_sqft'] = df['total_sqft'].apply(convert_sqft_to_num)\n"
   ]
  },
  {
   "cell_type": "code",
   "execution_count": 13,
   "id": "37a3e55c-203e-42db-9f32-117ed1ec2921",
   "metadata": {},
   "outputs": [],
   "source": [
    "df = df.dropna(subset=['total_sqft'])"
   ]
  },
  {
   "cell_type": "code",
   "execution_count": 14,
   "id": "c6e93aa4-9240-4dbf-8d7a-ef11d650c8aa",
   "metadata": {},
   "outputs": [],
   "source": [
    "df['total_sqft_zscore'] = (df['total_sqft'] - df['total_sqft'].mean()) / df['total_sqft'].std()\n",
    "df = df[(df['total_sqft_zscore'] <= 3) & (df['total_sqft_zscore'] >= -3)]\n",
    "df = df.drop('total_sqft_zscore', axis=1)"
   ]
  },
  {
   "cell_type": "code",
   "execution_count": 15,
   "id": "7296ec7a-16c7-46f6-9274-f891a0ed0571",
   "metadata": {},
   "outputs": [
    {
     "name": "stdout",
     "output_type": "stream",
     "text": [
      "<class 'pandas.core.frame.DataFrame'>\n",
      "Int64Index: 13156 entries, 0 to 13319\n",
      "Data columns (total 9 columns):\n",
      " #   Column        Non-Null Count  Dtype  \n",
      "---  ------        --------------  -----  \n",
      " 0   area_type     13156 non-null  object \n",
      " 1   availability  13156 non-null  object \n",
      " 2   location      13155 non-null  object \n",
      " 3   size          13140 non-null  float64\n",
      " 4   society       7753 non-null   object \n",
      " 5   total_sqft    13156 non-null  float64\n",
      " 6   bath          13085 non-null  float64\n",
      " 7   balcony       12591 non-null  float64\n",
      " 8   price         13156 non-null  float64\n",
      "dtypes: float64(5), object(4)\n",
      "memory usage: 1.0+ MB\n"
     ]
    }
   ],
   "source": [
    "df.info()"
   ]
  },
  {
   "cell_type": "code",
   "execution_count": 16,
   "id": "dd8fb746-81ad-45e6-9628-1d3e56e03111",
   "metadata": {},
   "outputs": [
    {
     "data": {
      "text/plain": [
       "array(['Super built-up  Area', 'Plot  Area', 'Built-up  Area',\n",
       "       'Carpet  Area'], dtype=object)"
      ]
     },
     "execution_count": 16,
     "metadata": {},
     "output_type": "execute_result"
    }
   ],
   "source": [
    "df['area_type'].unique()"
   ]
  },
  {
   "cell_type": "code",
   "execution_count": 17,
   "id": "85ecc3ee-8895-4e45-990d-da2b12b4e887",
   "metadata": {},
   "outputs": [],
   "source": [
    "df['area_type'] = df['area_type'].replace({'Super built-up  Area':1,'Built-up  Area':2,'Plot  Area':3,'Carpet  Area':4})"
   ]
  },
  {
   "cell_type": "code",
   "execution_count": 18,
   "id": "f89bfd31-9925-4e3b-bb08-b392af0f0e2c",
   "metadata": {},
   "outputs": [],
   "source": [
    "df['area_type'] = df['area_type'].astype(int)"
   ]
  },
  {
   "cell_type": "code",
   "execution_count": 19,
   "id": "8a76a15e-621f-477b-be89-f4831f48eb56",
   "metadata": {},
   "outputs": [
    {
     "name": "stdout",
     "output_type": "stream",
     "text": [
      "<class 'pandas.core.frame.DataFrame'>\n",
      "Int64Index: 13156 entries, 0 to 13319\n",
      "Data columns (total 9 columns):\n",
      " #   Column        Non-Null Count  Dtype  \n",
      "---  ------        --------------  -----  \n",
      " 0   area_type     13156 non-null  int64  \n",
      " 1   availability  13156 non-null  object \n",
      " 2   location      13155 non-null  object \n",
      " 3   size          13140 non-null  float64\n",
      " 4   society       7753 non-null   object \n",
      " 5   total_sqft    13156 non-null  float64\n",
      " 6   bath          13085 non-null  float64\n",
      " 7   balcony       12591 non-null  float64\n",
      " 8   price         13156 non-null  float64\n",
      "dtypes: float64(5), int64(1), object(3)\n",
      "memory usage: 1.0+ MB\n"
     ]
    }
   ],
   "source": [
    "df.info()"
   ]
  },
  {
   "cell_type": "code",
   "execution_count": 20,
   "id": "5373e1e6-1300-4568-9ebc-6c9a10d29e61",
   "metadata": {},
   "outputs": [],
   "source": [
    "df = df.drop('availability',axis=1)"
   ]
  },
  {
   "cell_type": "code",
   "execution_count": 21,
   "id": "0ec0fd47-0ff6-4b3d-9185-a4047e4da485",
   "metadata": {},
   "outputs": [
    {
     "name": "stdout",
     "output_type": "stream",
     "text": [
      "<class 'pandas.core.frame.DataFrame'>\n",
      "Int64Index: 13156 entries, 0 to 13319\n",
      "Data columns (total 8 columns):\n",
      " #   Column      Non-Null Count  Dtype  \n",
      "---  ------      --------------  -----  \n",
      " 0   area_type   13156 non-null  int64  \n",
      " 1   location    13155 non-null  object \n",
      " 2   size        13140 non-null  float64\n",
      " 3   society     7753 non-null   object \n",
      " 4   total_sqft  13156 non-null  float64\n",
      " 5   bath        13085 non-null  float64\n",
      " 6   balcony     12591 non-null  float64\n",
      " 7   price       13156 non-null  float64\n",
      "dtypes: float64(5), int64(1), object(2)\n",
      "memory usage: 925.0+ KB\n"
     ]
    }
   ],
   "source": [
    "df.info()"
   ]
  },
  {
   "cell_type": "code",
   "execution_count": 22,
   "id": "726b31a1-55d1-492e-a1f9-166bad67f4ea",
   "metadata": {},
   "outputs": [],
   "source": [
    "\n",
    "df[['area']] = df['location'].str.split(',')[0]\n",
    "df[['city']] = df['location'].str.split(',')[1] \n",
    "df = df.drop('location', axis=1)"
   ]
  },
  {
   "cell_type": "code",
   "execution_count": 23,
   "id": "7961f509-b1a8-4efb-a8ce-f76b9000a0f4",
   "metadata": {},
   "outputs": [
    {
     "name": "stdout",
     "output_type": "stream",
     "text": [
      "<class 'pandas.core.frame.DataFrame'>\n",
      "Int64Index: 13156 entries, 0 to 13319\n",
      "Data columns (total 9 columns):\n",
      " #   Column      Non-Null Count  Dtype  \n",
      "---  ------      --------------  -----  \n",
      " 0   area_type   13156 non-null  int64  \n",
      " 1   size        13140 non-null  float64\n",
      " 2   society     7753 non-null   object \n",
      " 3   total_sqft  13156 non-null  float64\n",
      " 4   bath        13085 non-null  float64\n",
      " 5   balcony     12591 non-null  float64\n",
      " 6   price       13156 non-null  float64\n",
      " 7   area        13156 non-null  object \n",
      " 8   city        13156 non-null  object \n",
      "dtypes: float64(5), int64(1), object(3)\n",
      "memory usage: 1.5+ MB\n"
     ]
    }
   ],
   "source": [
    "df.info()"
   ]
  },
  {
   "cell_type": "code",
   "execution_count": 24,
   "id": "29ca35ba-c3d5-475c-a541-57ef7af56b9d",
   "metadata": {},
   "outputs": [
    {
     "data": {
      "text/html": [
       "<div>\n",
       "<style scoped>\n",
       "    .dataframe tbody tr th:only-of-type {\n",
       "        vertical-align: middle;\n",
       "    }\n",
       "\n",
       "    .dataframe tbody tr th {\n",
       "        vertical-align: top;\n",
       "    }\n",
       "\n",
       "    .dataframe thead th {\n",
       "        text-align: right;\n",
       "    }\n",
       "</style>\n",
       "<table border=\"1\" class=\"dataframe\">\n",
       "  <thead>\n",
       "    <tr style=\"text-align: right;\">\n",
       "      <th></th>\n",
       "      <th>area_type</th>\n",
       "      <th>size</th>\n",
       "      <th>society</th>\n",
       "      <th>total_sqft</th>\n",
       "      <th>bath</th>\n",
       "      <th>balcony</th>\n",
       "      <th>price</th>\n",
       "      <th>area</th>\n",
       "      <th>city</th>\n",
       "    </tr>\n",
       "  </thead>\n",
       "  <tbody>\n",
       "    <tr>\n",
       "      <th>0</th>\n",
       "      <td>1</td>\n",
       "      <td>2.0</td>\n",
       "      <td>Coomee</td>\n",
       "      <td>1056.0</td>\n",
       "      <td>2.0</td>\n",
       "      <td>1.0</td>\n",
       "      <td>39.07</td>\n",
       "      <td>Electronic City Phase II</td>\n",
       "      <td>Chikka Tirupathi</td>\n",
       "    </tr>\n",
       "    <tr>\n",
       "      <th>1</th>\n",
       "      <td>3</td>\n",
       "      <td>4.0</td>\n",
       "      <td>Theanmp</td>\n",
       "      <td>2600.0</td>\n",
       "      <td>5.0</td>\n",
       "      <td>3.0</td>\n",
       "      <td>120.00</td>\n",
       "      <td>Electronic City Phase II</td>\n",
       "      <td>Chikka Tirupathi</td>\n",
       "    </tr>\n",
       "    <tr>\n",
       "      <th>2</th>\n",
       "      <td>2</td>\n",
       "      <td>3.0</td>\n",
       "      <td>NaN</td>\n",
       "      <td>1440.0</td>\n",
       "      <td>2.0</td>\n",
       "      <td>3.0</td>\n",
       "      <td>62.00</td>\n",
       "      <td>Electronic City Phase II</td>\n",
       "      <td>Chikka Tirupathi</td>\n",
       "    </tr>\n",
       "    <tr>\n",
       "      <th>3</th>\n",
       "      <td>1</td>\n",
       "      <td>3.0</td>\n",
       "      <td>Soiewre</td>\n",
       "      <td>1521.0</td>\n",
       "      <td>3.0</td>\n",
       "      <td>1.0</td>\n",
       "      <td>95.00</td>\n",
       "      <td>Electronic City Phase II</td>\n",
       "      <td>Chikka Tirupathi</td>\n",
       "    </tr>\n",
       "    <tr>\n",
       "      <th>4</th>\n",
       "      <td>1</td>\n",
       "      <td>2.0</td>\n",
       "      <td>NaN</td>\n",
       "      <td>1200.0</td>\n",
       "      <td>2.0</td>\n",
       "      <td>1.0</td>\n",
       "      <td>51.00</td>\n",
       "      <td>Electronic City Phase II</td>\n",
       "      <td>Chikka Tirupathi</td>\n",
       "    </tr>\n",
       "  </tbody>\n",
       "</table>\n",
       "</div>"
      ],
      "text/plain": [
       "   area_type  size  society  total_sqft  bath  balcony   price  \\\n",
       "0          1   2.0  Coomee       1056.0   2.0      1.0   39.07   \n",
       "1          3   4.0  Theanmp      2600.0   5.0      3.0  120.00   \n",
       "2          2   3.0      NaN      1440.0   2.0      3.0   62.00   \n",
       "3          1   3.0  Soiewre      1521.0   3.0      1.0   95.00   \n",
       "4          1   2.0      NaN      1200.0   2.0      1.0   51.00   \n",
       "\n",
       "                       area              city  \n",
       "0  Electronic City Phase II  Chikka Tirupathi  \n",
       "1  Electronic City Phase II  Chikka Tirupathi  \n",
       "2  Electronic City Phase II  Chikka Tirupathi  \n",
       "3  Electronic City Phase II  Chikka Tirupathi  \n",
       "4  Electronic City Phase II  Chikka Tirupathi  "
      ]
     },
     "execution_count": 24,
     "metadata": {},
     "output_type": "execute_result"
    }
   ],
   "source": [
    "df.head()"
   ]
  },
  {
   "cell_type": "code",
   "execution_count": 25,
   "id": "989225fd-c01f-420e-8bca-26a03a3b46f8",
   "metadata": {},
   "outputs": [
    {
     "data": {
      "text/html": [
       "<div>\n",
       "<style scoped>\n",
       "    .dataframe tbody tr th:only-of-type {\n",
       "        vertical-align: middle;\n",
       "    }\n",
       "\n",
       "    .dataframe tbody tr th {\n",
       "        vertical-align: top;\n",
       "    }\n",
       "\n",
       "    .dataframe thead th {\n",
       "        text-align: right;\n",
       "    }\n",
       "</style>\n",
       "<table border=\"1\" class=\"dataframe\">\n",
       "  <thead>\n",
       "    <tr style=\"text-align: right;\">\n",
       "      <th></th>\n",
       "      <th>area_type</th>\n",
       "      <th>size</th>\n",
       "      <th>society</th>\n",
       "      <th>total_sqft</th>\n",
       "      <th>bath</th>\n",
       "      <th>balcony</th>\n",
       "      <th>price</th>\n",
       "      <th>area</th>\n",
       "      <th>city</th>\n",
       "    </tr>\n",
       "  </thead>\n",
       "  <tbody>\n",
       "    <tr>\n",
       "      <th>13315</th>\n",
       "      <td>2</td>\n",
       "      <td>5.0</td>\n",
       "      <td>ArsiaEx</td>\n",
       "      <td>3453.0</td>\n",
       "      <td>4.0</td>\n",
       "      <td>0.0</td>\n",
       "      <td>231.0</td>\n",
       "      <td>Electronic City Phase II</td>\n",
       "      <td>Chikka Tirupathi</td>\n",
       "    </tr>\n",
       "    <tr>\n",
       "      <th>13316</th>\n",
       "      <td>1</td>\n",
       "      <td>4.0</td>\n",
       "      <td>NaN</td>\n",
       "      <td>3600.0</td>\n",
       "      <td>5.0</td>\n",
       "      <td>NaN</td>\n",
       "      <td>400.0</td>\n",
       "      <td>Electronic City Phase II</td>\n",
       "      <td>Chikka Tirupathi</td>\n",
       "    </tr>\n",
       "    <tr>\n",
       "      <th>13317</th>\n",
       "      <td>2</td>\n",
       "      <td>2.0</td>\n",
       "      <td>Mahla T</td>\n",
       "      <td>1141.0</td>\n",
       "      <td>2.0</td>\n",
       "      <td>1.0</td>\n",
       "      <td>60.0</td>\n",
       "      <td>Electronic City Phase II</td>\n",
       "      <td>Chikka Tirupathi</td>\n",
       "    </tr>\n",
       "    <tr>\n",
       "      <th>13318</th>\n",
       "      <td>1</td>\n",
       "      <td>4.0</td>\n",
       "      <td>SollyCl</td>\n",
       "      <td>4689.0</td>\n",
       "      <td>4.0</td>\n",
       "      <td>1.0</td>\n",
       "      <td>488.0</td>\n",
       "      <td>Electronic City Phase II</td>\n",
       "      <td>Chikka Tirupathi</td>\n",
       "    </tr>\n",
       "    <tr>\n",
       "      <th>13319</th>\n",
       "      <td>1</td>\n",
       "      <td>1.0</td>\n",
       "      <td>NaN</td>\n",
       "      <td>550.0</td>\n",
       "      <td>1.0</td>\n",
       "      <td>1.0</td>\n",
       "      <td>17.0</td>\n",
       "      <td>Electronic City Phase II</td>\n",
       "      <td>Chikka Tirupathi</td>\n",
       "    </tr>\n",
       "  </tbody>\n",
       "</table>\n",
       "</div>"
      ],
      "text/plain": [
       "       area_type  size  society  total_sqft  bath  balcony  price  \\\n",
       "13315          2   5.0  ArsiaEx      3453.0   4.0      0.0  231.0   \n",
       "13316          1   4.0      NaN      3600.0   5.0      NaN  400.0   \n",
       "13317          2   2.0  Mahla T      1141.0   2.0      1.0   60.0   \n",
       "13318          1   4.0  SollyCl      4689.0   4.0      1.0  488.0   \n",
       "13319          1   1.0      NaN       550.0   1.0      1.0   17.0   \n",
       "\n",
       "                           area              city  \n",
       "13315  Electronic City Phase II  Chikka Tirupathi  \n",
       "13316  Electronic City Phase II  Chikka Tirupathi  \n",
       "13317  Electronic City Phase II  Chikka Tirupathi  \n",
       "13318  Electronic City Phase II  Chikka Tirupathi  \n",
       "13319  Electronic City Phase II  Chikka Tirupathi  "
      ]
     },
     "execution_count": 25,
     "metadata": {},
     "output_type": "execute_result"
    }
   ],
   "source": [
    "df.tail()"
   ]
  },
  {
   "cell_type": "code",
   "execution_count": 26,
   "id": "f0a61754-93f6-4818-8f7a-dcb446ddcb57",
   "metadata": {},
   "outputs": [
    {
     "data": {
      "text/plain": [
       "array(['Electronic City Phase II'], dtype=object)"
      ]
     },
     "execution_count": 26,
     "metadata": {},
     "output_type": "execute_result"
    }
   ],
   "source": [
    "df['area'].unique()"
   ]
  },
  {
   "cell_type": "code",
   "execution_count": 27,
   "id": "1f1a2954-0822-4de7-9f44-281ee5b605aa",
   "metadata": {},
   "outputs": [],
   "source": [
    "df['area'] = df['area'].replace({'Electronic City Phase II':1})\n",
    "df['city'] = df['city'].replace({'Chikka Tirupathi':1})"
   ]
  },
  {
   "cell_type": "code",
   "execution_count": 28,
   "id": "95a28bf5-67de-42e6-bf55-8f7d5f1181c7",
   "metadata": {},
   "outputs": [],
   "source": [
    "df['area'] = df['area'].astype(int)\n",
    "df['city'] = df['city'].astype(int)"
   ]
  },
  {
   "cell_type": "code",
   "execution_count": 29,
   "id": "776f6a66-9a21-40bc-aaba-e850a8a299b3",
   "metadata": {},
   "outputs": [
    {
     "name": "stdout",
     "output_type": "stream",
     "text": [
      "<class 'pandas.core.frame.DataFrame'>\n",
      "Int64Index: 13156 entries, 0 to 13319\n",
      "Data columns (total 9 columns):\n",
      " #   Column      Non-Null Count  Dtype  \n",
      "---  ------      --------------  -----  \n",
      " 0   area_type   13156 non-null  int64  \n",
      " 1   size        13140 non-null  float64\n",
      " 2   society     7753 non-null   object \n",
      " 3   total_sqft  13156 non-null  float64\n",
      " 4   bath        13085 non-null  float64\n",
      " 5   balcony     12591 non-null  float64\n",
      " 6   price       13156 non-null  float64\n",
      " 7   area        13156 non-null  int64  \n",
      " 8   city        13156 non-null  int64  \n",
      "dtypes: float64(5), int64(3), object(1)\n",
      "memory usage: 1.5+ MB\n"
     ]
    }
   ],
   "source": [
    "df.info()"
   ]
  },
  {
   "cell_type": "code",
   "execution_count": 30,
   "id": "982c27b0-9313-4b67-9e25-2697bfc6cf65",
   "metadata": {},
   "outputs": [],
   "source": [
    "df = df.drop('society',axis=1)"
   ]
  },
  {
   "cell_type": "code",
   "execution_count": 31,
   "id": "f3a90ecf-7466-472d-8e50-c19964688b2c",
   "metadata": {},
   "outputs": [
    {
     "name": "stdout",
     "output_type": "stream",
     "text": [
      "<class 'pandas.core.frame.DataFrame'>\n",
      "Int64Index: 13156 entries, 0 to 13319\n",
      "Data columns (total 8 columns):\n",
      " #   Column      Non-Null Count  Dtype  \n",
      "---  ------      --------------  -----  \n",
      " 0   area_type   13156 non-null  int64  \n",
      " 1   size        13140 non-null  float64\n",
      " 2   total_sqft  13156 non-null  float64\n",
      " 3   bath        13085 non-null  float64\n",
      " 4   balcony     12591 non-null  float64\n",
      " 5   price       13156 non-null  float64\n",
      " 6   area        13156 non-null  int64  \n",
      " 7   city        13156 non-null  int64  \n",
      "dtypes: float64(5), int64(3)\n",
      "memory usage: 1.4 MB\n"
     ]
    }
   ],
   "source": [
    "df.info()"
   ]
  },
  {
   "cell_type": "code",
   "execution_count": 32,
   "id": "f0090bad-89b9-44fa-b777-4f69cb066e38",
   "metadata": {},
   "outputs": [
    {
     "data": {
      "text/html": [
       "<div>\n",
       "<style scoped>\n",
       "    .dataframe tbody tr th:only-of-type {\n",
       "        vertical-align: middle;\n",
       "    }\n",
       "\n",
       "    .dataframe tbody tr th {\n",
       "        vertical-align: top;\n",
       "    }\n",
       "\n",
       "    .dataframe thead th {\n",
       "        text-align: right;\n",
       "    }\n",
       "</style>\n",
       "<table border=\"1\" class=\"dataframe\">\n",
       "  <thead>\n",
       "    <tr style=\"text-align: right;\">\n",
       "      <th></th>\n",
       "      <th>area_type</th>\n",
       "      <th>size</th>\n",
       "      <th>total_sqft</th>\n",
       "      <th>bath</th>\n",
       "      <th>balcony</th>\n",
       "      <th>price</th>\n",
       "      <th>area</th>\n",
       "      <th>city</th>\n",
       "    </tr>\n",
       "  </thead>\n",
       "  <tbody>\n",
       "    <tr>\n",
       "      <th>count</th>\n",
       "      <td>13156.000000</td>\n",
       "      <td>13140.000000</td>\n",
       "      <td>13156.000000</td>\n",
       "      <td>13085.000000</td>\n",
       "      <td>12591.000000</td>\n",
       "      <td>13156.000000</td>\n",
       "      <td>13156.0</td>\n",
       "      <td>13156.0</td>\n",
       "    </tr>\n",
       "    <tr>\n",
       "      <th>mean</th>\n",
       "      <td>1.497644</td>\n",
       "      <td>2.782725</td>\n",
       "      <td>1490.475440</td>\n",
       "      <td>2.666641</td>\n",
       "      <td>1.584306</td>\n",
       "      <td>105.507624</td>\n",
       "      <td>1.0</td>\n",
       "      <td>1.0</td>\n",
       "    </tr>\n",
       "    <tr>\n",
       "      <th>std</th>\n",
       "      <td>0.765412</td>\n",
       "      <td>1.249543</td>\n",
       "      <td>721.043959</td>\n",
       "      <td>1.286405</td>\n",
       "      <td>0.815081</td>\n",
       "      <td>109.099993</td>\n",
       "      <td>0.0</td>\n",
       "      <td>0.0</td>\n",
       "    </tr>\n",
       "    <tr>\n",
       "      <th>min</th>\n",
       "      <td>1.000000</td>\n",
       "      <td>1.000000</td>\n",
       "      <td>1.000000</td>\n",
       "      <td>1.000000</td>\n",
       "      <td>0.000000</td>\n",
       "      <td>8.000000</td>\n",
       "      <td>1.0</td>\n",
       "      <td>1.0</td>\n",
       "    </tr>\n",
       "    <tr>\n",
       "      <th>25%</th>\n",
       "      <td>1.000000</td>\n",
       "      <td>2.000000</td>\n",
       "      <td>1100.000000</td>\n",
       "      <td>2.000000</td>\n",
       "      <td>1.000000</td>\n",
       "      <td>50.000000</td>\n",
       "      <td>1.0</td>\n",
       "      <td>1.0</td>\n",
       "    </tr>\n",
       "    <tr>\n",
       "      <th>50%</th>\n",
       "      <td>1.000000</td>\n",
       "      <td>3.000000</td>\n",
       "      <td>1270.000000</td>\n",
       "      <td>2.000000</td>\n",
       "      <td>2.000000</td>\n",
       "      <td>70.800000</td>\n",
       "      <td>1.0</td>\n",
       "      <td>1.0</td>\n",
       "    </tr>\n",
       "    <tr>\n",
       "      <th>75%</th>\n",
       "      <td>2.000000</td>\n",
       "      <td>3.000000</td>\n",
       "      <td>1660.000000</td>\n",
       "      <td>3.000000</td>\n",
       "      <td>2.000000</td>\n",
       "      <td>120.000000</td>\n",
       "      <td>1.0</td>\n",
       "      <td>1.0</td>\n",
       "    </tr>\n",
       "    <tr>\n",
       "      <th>max</th>\n",
       "      <td>4.000000</td>\n",
       "      <td>43.000000</td>\n",
       "      <td>5270.000000</td>\n",
       "      <td>40.000000</td>\n",
       "      <td>3.000000</td>\n",
       "      <td>2600.000000</td>\n",
       "      <td>1.0</td>\n",
       "      <td>1.0</td>\n",
       "    </tr>\n",
       "  </tbody>\n",
       "</table>\n",
       "</div>"
      ],
      "text/plain": [
       "          area_type          size    total_sqft          bath       balcony  \\\n",
       "count  13156.000000  13140.000000  13156.000000  13085.000000  12591.000000   \n",
       "mean       1.497644      2.782725   1490.475440      2.666641      1.584306   \n",
       "std        0.765412      1.249543    721.043959      1.286405      0.815081   \n",
       "min        1.000000      1.000000      1.000000      1.000000      0.000000   \n",
       "25%        1.000000      2.000000   1100.000000      2.000000      1.000000   \n",
       "50%        1.000000      3.000000   1270.000000      2.000000      2.000000   \n",
       "75%        2.000000      3.000000   1660.000000      3.000000      2.000000   \n",
       "max        4.000000     43.000000   5270.000000     40.000000      3.000000   \n",
       "\n",
       "              price     area     city  \n",
       "count  13156.000000  13156.0  13156.0  \n",
       "mean     105.507624      1.0      1.0  \n",
       "std      109.099993      0.0      0.0  \n",
       "min        8.000000      1.0      1.0  \n",
       "25%       50.000000      1.0      1.0  \n",
       "50%       70.800000      1.0      1.0  \n",
       "75%      120.000000      1.0      1.0  \n",
       "max     2600.000000      1.0      1.0  "
      ]
     },
     "execution_count": 32,
     "metadata": {},
     "output_type": "execute_result"
    }
   ],
   "source": [
    "df.describe()"
   ]
  },
  {
   "cell_type": "code",
   "execution_count": 33,
   "id": "20071f28-3b4a-4660-b6da-48f940228fe2",
   "metadata": {},
   "outputs": [],
   "source": [
    "# pip install matplotlib==3.6.0 --force-reinstall"
   ]
  },
  {
   "cell_type": "markdown",
   "id": "99cad719-661d-4095-a47d-541907232054",
   "metadata": {},
   "source": [
    "### Visualization Distribution of Price"
   ]
  },
  {
   "cell_type": "code",
   "execution_count": 34,
   "id": "aa4682bd-853f-4931-9397-2da3dcd28f29",
   "metadata": {},
   "outputs": [
    {
     "data": {
      "image/png": "[encoded data removed]",
      "text/plain": [
       "<Figure size 1000x600 with 1 Axes>"
      ]
     },
     "metadata": {},
     "output_type": "display_data"
    }
   ],
   "source": [
    "plt.figure(figsize=(10, 6))\n",
    "sns.histplot(df['price'], kde=True)\n",
    "plt.title('Distribution of Price')\n",
    "plt.xlabel('Price')\n",
    "plt.show()"
   ]
  },
  {
   "cell_type": "markdown",
   "id": "553955e9-e423-4940-90cd-5a92def71a97",
   "metadata": {},
   "source": [
    "### Visualization corelation between features"
   ]
  },
  {
   "cell_type": "code",
   "execution_count": 35,
   "id": "ac5977f1-ba8d-4c50-898a-9be186c76b65",
   "metadata": {},
   "outputs": [
    {
     "data": {
      "image/png": "[encoded data removed]",
      "text/plain": [
       "<Figure size 1200x800 with 2 Axes>"
      ]
     },
     "metadata": {},
     "output_type": "display_data"
    }
   ],
   "source": [
    "corr_matrix = df.corr()\n",
    "plt.figure(figsize=(12, 8))\n",
    "sns.heatmap(corr_matrix, annot=True, cmap='coolwarm')\n",
    "plt.title('Correlation Matrix')\n",
    "plt.show()"
   ]
  },
  {
   "cell_type": "markdown",
   "id": "6fa1b244-00d7-4c1d-ba86-f9c3d3bcafc3",
   "metadata": {},
   "source": [
    "### Visualization Count of Area Types"
   ]
  },
  {
   "cell_type": "code",
   "execution_count": 36,
   "id": "ce1fba31-87d6-4f20-a1e8-9a403d4591a5",
   "metadata": {},
   "outputs": [
    {
     "data": {
      "image/png": "[encoded data removed]",
      "text/plain": [
       "<Figure size 1000x600 with 1 Axes>"
      ]
     },
     "metadata": {},
     "output_type": "display_data"
    }
   ],
   "source": [
    "plt.figure(figsize=(10, 6))\n",
    "sns.countplot(x='area_type', data=df)\n",
    "plt.title('Count of Area Types')\n",
    "plt.xlabel('Area Type')\n",
    "plt.xticks(rotation=45)\n",
    "plt.show()\n"
   ]
  },
  {
   "cell_type": "markdown",
   "id": "3aa4a524-90c9-4e84-9167-5e63e91638ff",
   "metadata": {},
   "source": [
    "### Visualization Area Type vs Price"
   ]
  },
  {
   "cell_type": "code",
   "execution_count": 37,
   "id": "51a13403-f574-4979-bbd2-10a562da313b",
   "metadata": {},
   "outputs": [
    {
     "data": {
      "image/png": "[encoded data removed]",
      "text/plain": [
       "<Figure size 1000x600 with 1 Axes>"
      ]
     },
     "metadata": {},
     "output_type": "display_data"
    }
   ],
   "source": [
    "plt.figure(figsize=(10, 6))\n",
    "sns.boxplot(x='area_type', y='price', data=df)\n",
    "plt.title('Area Type vs. Price')\n",
    "plt.xlabel('Area Type')\n",
    "plt.ylabel('Price')\n",
    "plt.xticks(rotation=45)\n",
    "plt.show()"
   ]
  },
  {
   "cell_type": "code",
   "execution_count": 38,
   "id": "5b4330a1-fc32-4ed5-a0a7-42a8c61f6575",
   "metadata": {},
   "outputs": [],
   "source": [
    "df = df.dropna()"
   ]
  },
  {
   "cell_type": "code",
   "execution_count": 39,
   "id": "ee85738f-a455-42a4-baf4-f375320e7ce5",
   "metadata": {},
   "outputs": [],
   "source": [
    "x = df.drop('price',axis=1)\n",
    "y = df['price']"
   ]
  },
  {
   "cell_type": "code",
   "execution_count": 40,
   "id": "61ceee33-cac8-4089-9015-264671a23089",
   "metadata": {},
   "outputs": [],
   "source": [
    "from sklearn.model_selection import train_test_split\n",
    "x_train,x_test,y_train,y_test=train_test_split(x,y,test_size=0.33,random_state=42)"
   ]
  },
  {
   "cell_type": "code",
   "execution_count": 41,
   "id": "9dbf87cb-34c7-4c7a-bf1f-a2caf7530789",
   "metadata": {},
   "outputs": [],
   "source": [
    "from sklearn.preprocessing import StandardScaler\n",
    "stdScaler = StandardScaler()\n",
    "x_train_scaled = stdScaler.fit_transform(x_train)\n",
    "x_test_scaled = stdScaler.transform(x_test)"
   ]
  },
  {
   "cell_type": "code",
   "execution_count": 42,
   "id": "50547a9a-f75f-4b14-9410-eea1c3dc84b7",
   "metadata": {},
   "outputs": [],
   "source": [
    "from sklearn.svm import SVR"
   ]
  },
  {
   "cell_type": "code",
   "execution_count": 54,
   "id": "90245c25-d36d-4195-9895-4a5bd8b2af9f",
   "metadata": {},
   "outputs": [
    {
     "data": {
      "text/html": [
       "<style>#sk-container-id-4 {color: black;background-color: white;}#sk-container-id-4 pre{padding: 0;}#sk-container-id-4 div.sk-toggleable {background-color: white;}#sk-container-id-4 label.sk-toggleable__label {cursor: pointer;display: block;width: 100%;margin-bottom: 0;padding: 0.3em;box-sizing: border-box;text-align: center;}#sk-container-id-4 label.sk-toggleable__label-arrow:before {content: \"▸\";float: left;margin-right: 0.25em;color: #696969;}#sk-container-id-4 label.sk-toggleable__label-arrow:hover:before {color: black;}#sk-container-id-4 div.sk-estimator:hover label.sk-toggleable__label-arrow:before {color: black;}#sk-container-id-4 div.sk-toggleable__content {max-height: 0;max-width: 0;overflow: hidden;text-align: left;background-color: #f0f8ff;}#sk-container-id-4 div.sk-toggleable__content pre {margin: 0.2em;color: black;border-radius: 0.25em;background-color: #f0f8ff;}#sk-container-id-4 input.sk-toggleable__control:checked~div.sk-toggleable__content {max-height: 200px;max-width: 100%;overflow: auto;}#sk-container-id-4 input.sk-toggleable__control:checked~label.sk-toggleable__label-arrow:before {content: \"▾\";}#sk-container-id-4 div.sk-estimator input.sk-toggleable__control:checked~label.sk-toggleable__label {background-color: #d4ebff;}#sk-container-id-4 div.sk-label input.sk-toggleable__control:checked~label.sk-toggleable__label {background-color: #d4ebff;}#sk-container-id-4 input.sk-hidden--visually {border: 0;clip: rect(1px 1px 1px 1px);clip: rect(1px, 1px, 1px, 1px);height: 1px;margin: -1px;overflow: hidden;padding: 0;position: absolute;width: 1px;}#sk-container-id-4 div.sk-estimator {font-family: monospace;background-color: #f0f8ff;border: 1px dotted black;border-radius: 0.25em;box-sizing: border-box;margin-bottom: 0.5em;}#sk-container-id-4 div.sk-estimator:hover {background-color: #d4ebff;}#sk-container-id-4 div.sk-parallel-item::after {content: \"\";width: 100%;border-bottom: 1px solid gray;flex-grow: 1;}#sk-container-id-4 div.sk-label:hover label.sk-toggleable__label {background-color: #d4ebff;}#sk-container-id-4 div.sk-serial::before {content: \"\";position: absolute;border-left: 1px solid gray;box-sizing: border-box;top: 0;bottom: 0;left: 50%;z-index: 0;}#sk-container-id-4 div.sk-serial {display: flex;flex-direction: column;align-items: center;background-color: white;padding-right: 0.2em;padding-left: 0.2em;position: relative;}#sk-container-id-4 div.sk-item {position: relative;z-index: 1;}#sk-container-id-4 div.sk-parallel {display: flex;align-items: stretch;justify-content: center;background-color: white;position: relative;}#sk-container-id-4 div.sk-item::before, #sk-container-id-4 div.sk-parallel-item::before {content: \"\";position: absolute;border-left: 1px solid gray;box-sizing: border-box;top: 0;bottom: 0;left: 50%;z-index: -1;}#sk-container-id-4 div.sk-parallel-item {display: flex;flex-direction: column;z-index: 1;position: relative;background-color: white;}#sk-container-id-4 div.sk-parallel-item:first-child::after {align-self: flex-end;width: 50%;}#sk-container-id-4 div.sk-parallel-item:last-child::after {align-self: flex-start;width: 50%;}#sk-container-id-4 div.sk-parallel-item:only-child::after {width: 0;}#sk-container-id-4 div.sk-dashed-wrapped {border: 1px dashed gray;margin: 0 0.4em 0.5em 0.4em;box-sizing: border-box;padding-bottom: 0.4em;background-color: white;}#sk-container-id-4 div.sk-label label {font-family: monospace;font-weight: bold;display: inline-block;line-height: 1.2em;}#sk-container-id-4 div.sk-label-container {text-align: center;}#sk-container-id-4 div.sk-container {/* jupyter's `normalize.less` sets `[hidden] { display: none; }` but bootstrap.min.css set `[hidden] { display: none !important; }` so we also need the `!important` here to be able to override the default hidden behavior on the sphinx rendered scikit-learn.org. See: https://github.com/scikit-learn/scikit-learn/issues/21755 */display: inline-block !important;position: relative;}#sk-container-id-4 div.sk-text-repr-fallback {display: none;}</style><div id=\"sk-container-id-4\" class=\"sk-top-container\"><div class=\"sk-text-repr-fallback\"><pre>SVR(kernel=&#x27;linear&#x27;)</pre><b>In a Jupyter environment, please rerun this cell to show the HTML representation or trust the notebook. <br />On GitHub, the HTML representation is unable to render, please try loading this page with nbviewer.org.</b></div><div class=\"sk-container\" hidden><div class=\"sk-item\"><div class=\"sk-estimator sk-toggleable\"><input class=\"sk-toggleable__control sk-hidden--visually\" id=\"sk-estimator-id-4\" type=\"checkbox\" checked><label for=\"sk-estimator-id-4\" class=\"sk-toggleable__label sk-toggleable__label-arrow\">SVR</label><div class=\"sk-toggleable__content\"><pre>SVR(kernel=&#x27;linear&#x27;)</pre></div></div></div></div></div>"
      ],
      "text/plain": [
       "SVR(kernel='linear')"
      ]
     },
     "execution_count": 54,
     "metadata": {},
     "output_type": "execute_result"
    }
   ],
   "source": [
    "svr=SVR(kernel='linear')\n",
    "svr.fit(x_train,y_train)"
   ]
  },
  {
   "cell_type": "code",
   "execution_count": 55,
   "id": "a597407a-0c6e-407c-996c-822cacb88052",
   "metadata": {},
   "outputs": [
    {
     "data": {
      "text/plain": [
       "array([[ 1.37088524e+01, -3.54968110e+00,  7.10767503e-02,\n",
       "         1.34810907e+01, -3.37301588e+00,  6.19593266e-12,\n",
       "         6.19593266e-12]])"
      ]
     },
     "execution_count": 55,
     "metadata": {},
     "output_type": "execute_result"
    }
   ],
   "source": [
    "svr.coef_"
   ]
  },
  {
   "cell_type": "code",
   "execution_count": 56,
   "id": "fe600df3-fb29-4024-af0e-f5cc48127309",
   "metadata": {},
   "outputs": [],
   "source": [
    "y_pred = svr.predict(x_test)"
   ]
  },
  {
   "cell_type": "code",
   "execution_count": 57,
   "id": "0229c73b-0226-4954-a814-84d472080611",
   "metadata": {},
   "outputs": [
    {
     "name": "stdout",
     "output_type": "stream",
     "text": [
      "-0.5196101998943623\n"
     ]
    }
   ],
   "source": [
    "from sklearn.metrics import r2_score\n",
    "score = r2_score(y_pred,y_test)\n",
    "print(score)"
   ]
  },
  {
   "cell_type": "markdown",
   "id": "e4f7addd-2b3d-46f0-ab8d-9bdcce93442d",
   "metadata": {},
   "source": [
    "# Hyperparameter tuning using GridSearchCV"
   ]
  },
  {
   "cell_type": "code",
   "execution_count": 1,
   "id": "5e94b78c-7469-4daa-882e-8272e3775548",
   "metadata": {},
   "outputs": [],
   "source": [
    "parameter={'C':[0.1,1,10,100,1000],\n",
    "          'gamma':[1,0.1,0.01,0.001,0.0001],\n",
    "          'kernel':['linear','rbf','poly','sigmoid'],\n",
    "          'epsilon':[0.1,0.2,0.3]}"
   ]
  },
  {
   "cell_type": "code",
   "execution_count": 48,
   "id": "fde39c7b-1d45-424c-bcf1-842e4e76708e",
   "metadata": {},
   "outputs": [],
   "source": [
    "from sklearn.model_selection import GridSearchCV\n",
    "\n",
    "grid = GridSearchCV(SVR(),param_grid=parameter,refit=True,cv=5,verbose=3)"
   ]
  },
  {
   "cell_type": "code",
   "execution_count": 49,
   "id": "2bc3c87c-6809-4e02-aebc-a669b74434b9",
   "metadata": {},
   "outputs": [
    {
     "name": "stdout",
     "output_type": "stream",
     "text": [
      "Fitting 5 folds for each of 75 candidates, totalling 375 fits\n",
      "[CV 1/5] END C=0.1, epsilon=0.1, gamma=1, kernel=rbf;, score=-0.098 total time=   5.3s\n",
      "[CV 2/5] END C=0.1, epsilon=0.1, gamma=1, kernel=rbf;, score=-0.071 total time=   5.3s\n",
      "[CV 3/5] END C=0.1, epsilon=0.1, gamma=1, kernel=rbf;, score=-0.112 total time=   5.3s\n",
      "[CV 4/5] END C=0.1, epsilon=0.1, gamma=1, kernel=rbf;, score=-0.110 total time=   5.3s\n",
      "[CV 5/5] END C=0.1, epsilon=0.1, gamma=1, kernel=rbf;, score=-0.086 total time=   5.3s\n",
      "[CV 1/5] END C=0.1, epsilon=0.1, gamma=0.1, kernel=rbf;, score=-0.084 total time=   5.3s\n",
      "[CV 2/5] END C=0.1, epsilon=0.1, gamma=0.1, kernel=rbf;, score=-0.062 total time=   5.3s\n",
      "[CV 3/5] END C=0.1, epsilon=0.1, gamma=0.1, kernel=rbf;, score=-0.102 total time=   5.3s\n",
      "[CV 4/5] END C=0.1, epsilon=0.1, gamma=0.1, kernel=rbf;, score=-0.099 total time=   5.3s\n",
      "[CV 5/5] END C=0.1, epsilon=0.1, gamma=0.1, kernel=rbf;, score=-0.076 total time=   5.3s\n",
      "[CV 1/5] END C=0.1, epsilon=0.1, gamma=0.01, kernel=rbf;, score=-0.060 total time=   5.2s\n",
      "[CV 2/5] END C=0.1, epsilon=0.1, gamma=0.01, kernel=rbf;, score=-0.046 total time=   5.2s\n",
      "[CV 3/5] END C=0.1, epsilon=0.1, gamma=0.01, kernel=rbf;, score=-0.082 total time=   5.2s\n",
      "[CV 4/5] END C=0.1, epsilon=0.1, gamma=0.01, kernel=rbf;, score=-0.079 total time=   5.2s\n",
      "[CV 5/5] END C=0.1, epsilon=0.1, gamma=0.01, kernel=rbf;, score=-0.056 total time=   5.2s\n",
      "[CV 1/5] END C=0.1, epsilon=0.1, gamma=0.001, kernel=rbf;, score=-0.018 total time=   4.3s\n",
      "[CV 2/5] END C=0.1, epsilon=0.1, gamma=0.001, kernel=rbf;, score=-0.014 total time=   4.3s\n",
      "[CV 3/5] END C=0.1, epsilon=0.1, gamma=0.001, kernel=rbf;, score=-0.045 total time=   4.4s\n",
      "[CV 4/5] END C=0.1, epsilon=0.1, gamma=0.001, kernel=rbf;, score=-0.041 total time=   4.3s\n",
      "[CV 5/5] END C=0.1, epsilon=0.1, gamma=0.001, kernel=rbf;, score=-0.021 total time=   4.3s\n",
      "[CV 1/5] END C=0.1, epsilon=0.1, gamma=0.0001, kernel=rbf;, score=0.059 total time=   3.6s\n",
      "[CV 2/5] END C=0.1, epsilon=0.1, gamma=0.0001, kernel=rbf;, score=0.038 total time=   3.6s\n",
      "[CV 3/5] END C=0.1, epsilon=0.1, gamma=0.0001, kernel=rbf;, score=0.020 total time=   3.6s\n",
      "[CV 4/5] END C=0.1, epsilon=0.1, gamma=0.0001, kernel=rbf;, score=0.027 total time=   3.6s\n",
      "[CV 5/5] END C=0.1, epsilon=0.1, gamma=0.0001, kernel=rbf;, score=0.039 total time=   3.6s\n",
      "[CV 1/5] END C=0.1, epsilon=0.2, gamma=1, kernel=rbf;, score=-0.098 total time=   5.3s\n",
      "[CV 2/5] END C=0.1, epsilon=0.2, gamma=1, kernel=rbf;, score=-0.072 total time=   5.2s\n",
      "[CV 3/5] END C=0.1, epsilon=0.2, gamma=1, kernel=rbf;, score=-0.112 total time=   5.3s\n",
      "[CV 4/5] END C=0.1, epsilon=0.2, gamma=1, kernel=rbf;, score=-0.109 total time=   5.3s\n",
      "[CV 5/5] END C=0.1, epsilon=0.2, gamma=1, kernel=rbf;, score=-0.086 total time=   5.2s\n",
      "[CV 1/5] END C=0.1, epsilon=0.2, gamma=0.1, kernel=rbf;, score=-0.084 total time=   5.3s\n",
      "[CV 2/5] END C=0.1, epsilon=0.2, gamma=0.1, kernel=rbf;, score=-0.062 total time=   5.3s\n",
      "[CV 3/5] END C=0.1, epsilon=0.2, gamma=0.1, kernel=rbf;, score=-0.102 total time=   5.3s\n",
      "[CV 4/5] END C=0.1, epsilon=0.2, gamma=0.1, kernel=rbf;, score=-0.099 total time=   5.3s\n",
      "[CV 5/5] END C=0.1, epsilon=0.2, gamma=0.1, kernel=rbf;, score=-0.076 total time=   5.3s\n",
      "[CV 1/5] END C=0.1, epsilon=0.2, gamma=0.01, kernel=rbf;, score=-0.060 total time=   5.2s\n",
      "[CV 2/5] END C=0.1, epsilon=0.2, gamma=0.01, kernel=rbf;, score=-0.046 total time=   5.2s\n",
      "[CV 3/5] END C=0.1, epsilon=0.2, gamma=0.01, kernel=rbf;, score=-0.083 total time=   5.2s\n",
      "[CV 4/5] END C=0.1, epsilon=0.2, gamma=0.01, kernel=rbf;, score=-0.079 total time=   5.2s\n",
      "[CV 5/5] END C=0.1, epsilon=0.2, gamma=0.01, kernel=rbf;, score=-0.055 total time=   5.2s\n",
      "[CV 1/5] END C=0.1, epsilon=0.2, gamma=0.001, kernel=rbf;, score=-0.017 total time=   4.3s\n",
      "[CV 2/5] END C=0.1, epsilon=0.2, gamma=0.001, kernel=rbf;, score=-0.014 total time=   4.3s\n",
      "[CV 3/5] END C=0.1, epsilon=0.2, gamma=0.001, kernel=rbf;, score=-0.045 total time=   4.3s\n",
      "[CV 4/5] END C=0.1, epsilon=0.2, gamma=0.001, kernel=rbf;, score=-0.042 total time=   4.3s\n",
      "[CV 5/5] END C=0.1, epsilon=0.2, gamma=0.001, kernel=rbf;, score=-0.021 total time=   4.3s\n",
      "[CV 1/5] END C=0.1, epsilon=0.2, gamma=0.0001, kernel=rbf;, score=0.059 total time=   3.6s\n",
      "[CV 2/5] END C=0.1, epsilon=0.2, gamma=0.0001, kernel=rbf;, score=0.039 total time=   3.6s\n",
      "[CV 3/5] END C=0.1, epsilon=0.2, gamma=0.0001, kernel=rbf;, score=0.020 total time=   3.6s\n",
      "[CV 4/5] END C=0.1, epsilon=0.2, gamma=0.0001, kernel=rbf;, score=0.027 total time=   3.6s\n",
      "[CV 5/5] END C=0.1, epsilon=0.2, gamma=0.0001, kernel=rbf;, score=0.039 total time=   3.6s\n",
      "[CV 1/5] END C=0.1, epsilon=0.3, gamma=1, kernel=rbf;, score=-0.099 total time=   5.2s\n",
      "[CV 2/5] END C=0.1, epsilon=0.3, gamma=1, kernel=rbf;, score=-0.072 total time=   5.2s\n",
      "[CV 3/5] END C=0.1, epsilon=0.3, gamma=1, kernel=rbf;, score=-0.112 total time=   5.2s\n",
      "[CV 4/5] END C=0.1, epsilon=0.3, gamma=1, kernel=rbf;, score=-0.109 total time=   5.2s\n",
      "[CV 5/5] END C=0.1, epsilon=0.3, gamma=1, kernel=rbf;, score=-0.086 total time=   5.2s\n",
      "[CV 1/5] END C=0.1, epsilon=0.3, gamma=0.1, kernel=rbf;, score=-0.084 total time=   5.3s\n",
      "[CV 2/5] END C=0.1, epsilon=0.3, gamma=0.1, kernel=rbf;, score=-0.062 total time=   5.3s\n",
      "[CV 3/5] END C=0.1, epsilon=0.3, gamma=0.1, kernel=rbf;, score=-0.102 total time=   5.3s\n",
      "[CV 4/5] END C=0.1, epsilon=0.3, gamma=0.1, kernel=rbf;, score=-0.099 total time=   5.3s\n",
      "[CV 5/5] END C=0.1, epsilon=0.3, gamma=0.1, kernel=rbf;, score=-0.075 total time=   5.3s\n",
      "[CV 1/5] END C=0.1, epsilon=0.3, gamma=0.01, kernel=rbf;, score=-0.060 total time=   5.2s\n",
      "[CV 2/5] END C=0.1, epsilon=0.3, gamma=0.01, kernel=rbf;, score=-0.045 total time=   5.2s\n",
      "[CV 3/5] END C=0.1, epsilon=0.3, gamma=0.01, kernel=rbf;, score=-0.083 total time=   5.2s\n",
      "[CV 4/5] END C=0.1, epsilon=0.3, gamma=0.01, kernel=rbf;, score=-0.080 total time=   5.2s\n",
      "[CV 5/5] END C=0.1, epsilon=0.3, gamma=0.01, kernel=rbf;, score=-0.055 total time=   5.2s\n",
      "[CV 1/5] END C=0.1, epsilon=0.3, gamma=0.001, kernel=rbf;, score=-0.017 total time=   4.3s\n",
      "[CV 2/5] END C=0.1, epsilon=0.3, gamma=0.001, kernel=rbf;, score=-0.014 total time=   4.3s\n",
      "[CV 3/5] END C=0.1, epsilon=0.3, gamma=0.001, kernel=rbf;, score=-0.045 total time=   4.3s\n",
      "[CV 4/5] END C=0.1, epsilon=0.3, gamma=0.001, kernel=rbf;, score=-0.041 total time=   4.3s\n",
      "[CV 5/5] END C=0.1, epsilon=0.3, gamma=0.001, kernel=rbf;, score=-0.021 total time=   4.3s\n",
      "[CV 1/5] END C=0.1, epsilon=0.3, gamma=0.0001, kernel=rbf;, score=0.059 total time=   3.6s\n",
      "[CV 2/5] END C=0.1, epsilon=0.3, gamma=0.0001, kernel=rbf;, score=0.038 total time=   3.6s\n",
      "[CV 3/5] END C=0.1, epsilon=0.3, gamma=0.0001, kernel=rbf;, score=0.020 total time=   3.6s\n",
      "[CV 4/5] END C=0.1, epsilon=0.3, gamma=0.0001, kernel=rbf;, score=0.027 total time=   3.6s\n",
      "[CV 5/5] END C=0.1, epsilon=0.3, gamma=0.0001, kernel=rbf;, score=0.039 total time=   3.6s\n",
      "[CV 1/5] END C=1, epsilon=0.1, gamma=1, kernel=rbf;, score=-0.061 total time=   5.3s\n",
      "[CV 2/5] END C=1, epsilon=0.1, gamma=1, kernel=rbf;, score=-0.045 total time=   5.3s\n",
      "[CV 3/5] END C=1, epsilon=0.1, gamma=1, kernel=rbf;, score=-0.082 total time=   5.3s\n",
      "[CV 4/5] END C=1, epsilon=0.1, gamma=1, kernel=rbf;, score=-0.078 total time=   5.3s\n",
      "[CV 5/5] END C=1, epsilon=0.1, gamma=1, kernel=rbf;, score=-0.055 total time=   5.3s\n",
      "[CV 1/5] END C=1, epsilon=0.1, gamma=0.1, kernel=rbf;, score=0.034 total time=   5.3s\n",
      "[CV 2/5] END C=1, epsilon=0.1, gamma=0.1, kernel=rbf;, score=0.019 total time=   5.3s\n",
      "[CV 3/5] END C=1, epsilon=0.1, gamma=0.1, kernel=rbf;, score=-0.012 total time=   5.3s\n",
      "[CV 4/5] END C=1, epsilon=0.1, gamma=0.1, kernel=rbf;, score=-0.001 total time=   5.3s\n",
      "[CV 5/5] END C=1, epsilon=0.1, gamma=0.1, kernel=rbf;, score=0.011 total time=   5.3s\n",
      "[CV 1/5] END C=1, epsilon=0.1, gamma=0.01, kernel=rbf;, score=0.121 total time=   5.2s\n",
      "[CV 2/5] END C=1, epsilon=0.1, gamma=0.01, kernel=rbf;, score=0.079 total time=   5.2s\n",
      "[CV 3/5] END C=1, epsilon=0.1, gamma=0.01, kernel=rbf;, score=0.065 total time=   5.2s\n",
      "[CV 4/5] END C=1, epsilon=0.1, gamma=0.01, kernel=rbf;, score=0.071 total time=   5.2s\n",
      "[CV 5/5] END C=1, epsilon=0.1, gamma=0.01, kernel=rbf;, score=0.088 total time=   5.2s\n",
      "[CV 1/5] END C=1, epsilon=0.1, gamma=0.001, kernel=rbf;, score=0.213 total time=   4.3s\n",
      "[CV 2/5] END C=1, epsilon=0.1, gamma=0.001, kernel=rbf;, score=0.145 total time=   4.3s\n",
      "[CV 3/5] END C=1, epsilon=0.1, gamma=0.001, kernel=rbf;, score=0.154 total time=   4.3s\n",
      "[CV 4/5] END C=1, epsilon=0.1, gamma=0.001, kernel=rbf;, score=0.159 total time=   4.3s\n",
      "[CV 5/5] END C=1, epsilon=0.1, gamma=0.001, kernel=rbf;, score=0.166 total time=   4.3s\n",
      "[CV 1/5] END C=1, epsilon=0.1, gamma=0.0001, kernel=rbf;, score=0.323 total time=   3.6s\n",
      "[CV 2/5] END C=1, epsilon=0.1, gamma=0.0001, kernel=rbf;, score=0.233 total time=   3.6s\n",
      "[CV 3/5] END C=1, epsilon=0.1, gamma=0.0001, kernel=rbf;, score=0.263 total time=   3.6s\n",
      "[CV 4/5] END C=1, epsilon=0.1, gamma=0.0001, kernel=rbf;, score=0.273 total time=   3.6s\n",
      "[CV 5/5] END C=1, epsilon=0.1, gamma=0.0001, kernel=rbf;, score=0.261 total time=   3.6s\n",
      "[CV 1/5] END C=1, epsilon=0.2, gamma=1, kernel=rbf;, score=-0.061 total time=   5.3s\n",
      "[CV 2/5] END C=1, epsilon=0.2, gamma=1, kernel=rbf;, score=-0.045 total time=   5.3s\n",
      "[CV 3/5] END C=1, epsilon=0.2, gamma=1, kernel=rbf;, score=-0.082 total time=   5.2s\n",
      "[CV 4/5] END C=1, epsilon=0.2, gamma=1, kernel=rbf;, score=-0.078 total time=   5.3s\n",
      "[CV 5/5] END C=1, epsilon=0.2, gamma=1, kernel=rbf;, score=-0.055 total time=   5.3s\n",
      "[CV 1/5] END C=1, epsilon=0.2, gamma=0.1, kernel=rbf;, score=0.034 total time=   5.3s\n",
      "[CV 2/5] END C=1, epsilon=0.2, gamma=0.1, kernel=rbf;, score=0.019 total time=   5.3s\n",
      "[CV 3/5] END C=1, epsilon=0.2, gamma=0.1, kernel=rbf;, score=-0.012 total time=   5.3s\n",
      "[CV 4/5] END C=1, epsilon=0.2, gamma=0.1, kernel=rbf;, score=-0.001 total time=   5.3s\n",
      "[CV 5/5] END C=1, epsilon=0.2, gamma=0.1, kernel=rbf;, score=0.011 total time=   5.3s\n",
      "[CV 1/5] END C=1, epsilon=0.2, gamma=0.01, kernel=rbf;, score=0.121 total time=   5.2s\n",
      "[CV 2/5] END C=1, epsilon=0.2, gamma=0.01, kernel=rbf;, score=0.079 total time=   5.2s\n",
      "[CV 3/5] END C=1, epsilon=0.2, gamma=0.01, kernel=rbf;, score=0.065 total time=   5.2s\n",
      "[CV 4/5] END C=1, epsilon=0.2, gamma=0.01, kernel=rbf;, score=0.071 total time=   5.2s\n",
      "[CV 5/5] END C=1, epsilon=0.2, gamma=0.01, kernel=rbf;, score=0.088 total time=   5.2s\n",
      "[CV 1/5] END C=1, epsilon=0.2, gamma=0.001, kernel=rbf;, score=0.213 total time=   4.3s\n",
      "[CV 2/5] END C=1, epsilon=0.2, gamma=0.001, kernel=rbf;, score=0.145 total time=   4.3s\n",
      "[CV 3/5] END C=1, epsilon=0.2, gamma=0.001, kernel=rbf;, score=0.154 total time=   4.3s\n",
      "[CV 4/5] END C=1, epsilon=0.2, gamma=0.001, kernel=rbf;, score=0.159 total time=   4.3s\n",
      "[CV 5/5] END C=1, epsilon=0.2, gamma=0.001, kernel=rbf;, score=0.166 total time=   4.3s\n",
      "[CV 1/5] END C=1, epsilon=0.2, gamma=0.0001, kernel=rbf;, score=0.323 total time=   3.6s\n",
      "[CV 2/5] END C=1, epsilon=0.2, gamma=0.0001, kernel=rbf;, score=0.233 total time=   3.6s\n",
      "[CV 3/5] END C=1, epsilon=0.2, gamma=0.0001, kernel=rbf;, score=0.263 total time=   3.6s\n",
      "[CV 4/5] END C=1, epsilon=0.2, gamma=0.0001, kernel=rbf;, score=0.273 total time=   3.6s\n",
      "[CV 5/5] END C=1, epsilon=0.2, gamma=0.0001, kernel=rbf;, score=0.261 total time=   3.6s\n",
      "[CV 1/5] END C=1, epsilon=0.3, gamma=1, kernel=rbf;, score=-0.061 total time=   5.2s\n",
      "[CV 2/5] END C=1, epsilon=0.3, gamma=1, kernel=rbf;, score=-0.045 total time=   5.2s\n",
      "[CV 3/5] END C=1, epsilon=0.3, gamma=1, kernel=rbf;, score=-0.082 total time=   5.2s\n",
      "[CV 4/5] END C=1, epsilon=0.3, gamma=1, kernel=rbf;, score=-0.078 total time=   5.3s\n",
      "[CV 5/5] END C=1, epsilon=0.3, gamma=1, kernel=rbf;, score=-0.055 total time=   5.2s\n",
      "[CV 1/5] END C=1, epsilon=0.3, gamma=0.1, kernel=rbf;, score=0.034 total time=   5.3s\n",
      "[CV 2/5] END C=1, epsilon=0.3, gamma=0.1, kernel=rbf;, score=0.019 total time=   5.3s\n",
      "[CV 3/5] END C=1, epsilon=0.3, gamma=0.1, kernel=rbf;, score=-0.012 total time=   5.3s\n",
      "[CV 4/5] END C=1, epsilon=0.3, gamma=0.1, kernel=rbf;, score=-0.001 total time=   5.3s\n",
      "[CV 5/5] END C=1, epsilon=0.3, gamma=0.1, kernel=rbf;, score=0.011 total time=   5.3s\n",
      "[CV 1/5] END C=1, epsilon=0.3, gamma=0.01, kernel=rbf;, score=0.121 total time=   5.2s\n",
      "[CV 2/5] END C=1, epsilon=0.3, gamma=0.01, kernel=rbf;, score=0.079 total time=   5.2s\n",
      "[CV 3/5] END C=1, epsilon=0.3, gamma=0.01, kernel=rbf;, score=0.065 total time=   5.2s\n",
      "[CV 4/5] END C=1, epsilon=0.3, gamma=0.01, kernel=rbf;, score=0.071 total time=   5.2s\n",
      "[CV 5/5] END C=1, epsilon=0.3, gamma=0.01, kernel=rbf;, score=0.088 total time=   5.2s\n",
      "[CV 1/5] END C=1, epsilon=0.3, gamma=0.001, kernel=rbf;, score=0.213 total time=   4.3s\n",
      "[CV 2/5] END C=1, epsilon=0.3, gamma=0.001, kernel=rbf;, score=0.145 total time=   4.3s\n",
      "[CV 3/5] END C=1, epsilon=0.3, gamma=0.001, kernel=rbf;, score=0.154 total time=   4.3s\n",
      "[CV 4/5] END C=1, epsilon=0.3, gamma=0.001, kernel=rbf;, score=0.159 total time=   4.3s\n",
      "[CV 5/5] END C=1, epsilon=0.3, gamma=0.001, kernel=rbf;, score=0.166 total time=   4.3s\n",
      "[CV 1/5] END C=1, epsilon=0.3, gamma=0.0001, kernel=rbf;, score=0.323 total time=   3.6s\n",
      "[CV 2/5] END C=1, epsilon=0.3, gamma=0.0001, kernel=rbf;, score=0.233 total time=   3.6s\n",
      "[CV 3/5] END C=1, epsilon=0.3, gamma=0.0001, kernel=rbf;, score=0.263 total time=   3.6s\n",
      "[CV 4/5] END C=1, epsilon=0.3, gamma=0.0001, kernel=rbf;, score=0.273 total time=   3.6s\n",
      "[CV 5/5] END C=1, epsilon=0.3, gamma=0.0001, kernel=rbf;, score=0.261 total time=   3.6s\n",
      "[CV 1/5] END C=10, epsilon=0.1, gamma=1, kernel=rbf;, score=0.087 total time=   5.4s\n",
      "[CV 2/5] END C=10, epsilon=0.1, gamma=1, kernel=rbf;, score=0.056 total time=   5.4s\n",
      "[CV 3/5] END C=10, epsilon=0.1, gamma=1, kernel=rbf;, score=0.035 total time=   5.4s\n",
      "[CV 4/5] END C=10, epsilon=0.1, gamma=1, kernel=rbf;, score=0.049 total time=   5.4s\n",
      "[CV 5/5] END C=10, epsilon=0.1, gamma=1, kernel=rbf;, score=0.056 total time=   5.4s\n",
      "[CV 1/5] END C=10, epsilon=0.1, gamma=0.1, kernel=rbf;, score=0.296 total time=   5.4s\n",
      "[CV 2/5] END C=10, epsilon=0.1, gamma=0.1, kernel=rbf;, score=0.208 total time=   5.4s\n",
      "[CV 3/5] END C=10, epsilon=0.1, gamma=0.1, kernel=rbf;, score=0.212 total time=   5.4s\n",
      "[CV 4/5] END C=10, epsilon=0.1, gamma=0.1, kernel=rbf;, score=0.220 total time=   5.4s\n",
      "[CV 5/5] END C=10, epsilon=0.1, gamma=0.1, kernel=rbf;, score=0.220 total time=   5.4s\n",
      "[CV 1/5] END C=10, epsilon=0.1, gamma=0.01, kernel=rbf;, score=0.410 total time=   5.3s\n",
      "[CV 2/5] END C=10, epsilon=0.1, gamma=0.01, kernel=rbf;, score=0.300 total time=   5.3s\n",
      "[CV 3/5] END C=10, epsilon=0.1, gamma=0.01, kernel=rbf;, score=0.325 total time=   5.3s\n",
      "[CV 4/5] END C=10, epsilon=0.1, gamma=0.01, kernel=rbf;, score=0.328 total time=   5.3s\n",
      "[CV 5/5] END C=10, epsilon=0.1, gamma=0.01, kernel=rbf;, score=0.336 total time=   5.3s\n",
      "[CV 1/5] END C=10, epsilon=0.1, gamma=0.001, kernel=rbf;, score=0.477 total time=   4.4s\n",
      "[CV 2/5] END C=10, epsilon=0.1, gamma=0.001, kernel=rbf;, score=0.364 total time=   4.4s\n",
      "[CV 3/5] END C=10, epsilon=0.1, gamma=0.001, kernel=rbf;, score=0.406 total time=   4.4s\n",
      "[CV 4/5] END C=10, epsilon=0.1, gamma=0.001, kernel=rbf;, score=0.408 total time=   4.4s\n",
      "[CV 5/5] END C=10, epsilon=0.1, gamma=0.001, kernel=rbf;, score=0.407 total time=   4.4s\n",
      "[CV 1/5] END C=10, epsilon=0.1, gamma=0.0001, kernel=rbf;, score=0.488 total time=   3.6s\n",
      "[CV 2/5] END C=10, epsilon=0.1, gamma=0.0001, kernel=rbf;, score=0.405 total time=   3.6s\n",
      "[CV 3/5] END C=10, epsilon=0.1, gamma=0.0001, kernel=rbf;, score=0.440 total time=   3.7s\n",
      "[CV 4/5] END C=10, epsilon=0.1, gamma=0.0001, kernel=rbf;, score=0.452 total time=   3.6s\n",
      "[CV 5/5] END C=10, epsilon=0.1, gamma=0.0001, kernel=rbf;, score=0.444 total time=   3.6s\n",
      "[CV 1/5] END C=10, epsilon=0.2, gamma=1, kernel=rbf;, score=0.087 total time=   5.4s\n",
      "[CV 2/5] END C=10, epsilon=0.2, gamma=1, kernel=rbf;, score=0.056 total time=   5.4s\n",
      "[CV 3/5] END C=10, epsilon=0.2, gamma=1, kernel=rbf;, score=0.035 total time=   5.3s\n",
      "[CV 4/5] END C=10, epsilon=0.2, gamma=1, kernel=rbf;, score=0.049 total time=   5.3s\n",
      "[CV 5/5] END C=10, epsilon=0.2, gamma=1, kernel=rbf;, score=0.056 total time=   5.3s\n",
      "[CV 1/5] END C=10, epsilon=0.2, gamma=0.1, kernel=rbf;, score=0.296 total time=   5.4s\n",
      "[CV 2/5] END C=10, epsilon=0.2, gamma=0.1, kernel=rbf;, score=0.208 total time=   5.4s\n",
      "[CV 3/5] END C=10, epsilon=0.2, gamma=0.1, kernel=rbf;, score=0.212 total time=   5.4s\n",
      "[CV 4/5] END C=10, epsilon=0.2, gamma=0.1, kernel=rbf;, score=0.220 total time=   5.4s\n",
      "[CV 5/5] END C=10, epsilon=0.2, gamma=0.1, kernel=rbf;, score=0.220 total time=   5.4s\n",
      "[CV 1/5] END C=10, epsilon=0.2, gamma=0.01, kernel=rbf;, score=0.410 total time=   5.3s\n",
      "[CV 2/5] END C=10, epsilon=0.2, gamma=0.01, kernel=rbf;, score=0.300 total time=   5.3s\n",
      "[CV 3/5] END C=10, epsilon=0.2, gamma=0.01, kernel=rbf;, score=0.325 total time=   5.3s\n",
      "[CV 4/5] END C=10, epsilon=0.2, gamma=0.01, kernel=rbf;, score=0.328 total time=   5.3s\n",
      "[CV 5/5] END C=10, epsilon=0.2, gamma=0.01, kernel=rbf;, score=0.336 total time=   5.3s\n",
      "[CV 1/5] END C=10, epsilon=0.2, gamma=0.001, kernel=rbf;, score=0.477 total time=   4.4s\n",
      "[CV 2/5] END C=10, epsilon=0.2, gamma=0.001, kernel=rbf;, score=0.364 total time=   4.4s\n",
      "[CV 3/5] END C=10, epsilon=0.2, gamma=0.001, kernel=rbf;, score=0.406 total time=   4.4s\n",
      "[CV 4/5] END C=10, epsilon=0.2, gamma=0.001, kernel=rbf;, score=0.408 total time=   4.4s\n",
      "[CV 5/5] END C=10, epsilon=0.2, gamma=0.001, kernel=rbf;, score=0.407 total time=   4.4s\n",
      "[CV 1/5] END C=10, epsilon=0.2, gamma=0.0001, kernel=rbf;, score=0.488 total time=   3.6s\n",
      "[CV 2/5] END C=10, epsilon=0.2, gamma=0.0001, kernel=rbf;, score=0.405 total time=   3.6s\n",
      "[CV 3/5] END C=10, epsilon=0.2, gamma=0.0001, kernel=rbf;, score=0.440 total time=   3.6s\n",
      "[CV 4/5] END C=10, epsilon=0.2, gamma=0.0001, kernel=rbf;, score=0.452 total time=   3.8s\n",
      "[CV 5/5] END C=10, epsilon=0.2, gamma=0.0001, kernel=rbf;, score=0.444 total time=   3.8s\n",
      "[CV 1/5] END C=10, epsilon=0.3, gamma=1, kernel=rbf;, score=0.087 total time=   5.3s\n",
      "[CV 2/5] END C=10, epsilon=0.3, gamma=1, kernel=rbf;, score=0.056 total time=   5.3s\n",
      "[CV 3/5] END C=10, epsilon=0.3, gamma=1, kernel=rbf;, score=0.035 total time=   5.3s\n",
      "[CV 4/5] END C=10, epsilon=0.3, gamma=1, kernel=rbf;, score=0.049 total time=   5.3s\n",
      "[CV 5/5] END C=10, epsilon=0.3, gamma=1, kernel=rbf;, score=0.056 total time=   5.3s\n",
      "[CV 1/5] END C=10, epsilon=0.3, gamma=0.1, kernel=rbf;, score=0.296 total time=   5.4s\n",
      "[CV 2/5] END C=10, epsilon=0.3, gamma=0.1, kernel=rbf;, score=0.208 total time=   5.3s\n",
      "[CV 3/5] END C=10, epsilon=0.3, gamma=0.1, kernel=rbf;, score=0.212 total time=   5.4s\n",
      "[CV 4/5] END C=10, epsilon=0.3, gamma=0.1, kernel=rbf;, score=0.220 total time=   5.4s\n",
      "[CV 5/5] END C=10, epsilon=0.3, gamma=0.1, kernel=rbf;, score=0.220 total time=   5.3s\n",
      "[CV 1/5] END C=10, epsilon=0.3, gamma=0.01, kernel=rbf;, score=0.411 total time=   5.2s\n",
      "[CV 2/5] END C=10, epsilon=0.3, gamma=0.01, kernel=rbf;, score=0.300 total time=   5.2s\n",
      "[CV 3/5] END C=10, epsilon=0.3, gamma=0.01, kernel=rbf;, score=0.325 total time=   5.3s\n",
      "[CV 4/5] END C=10, epsilon=0.3, gamma=0.01, kernel=rbf;, score=0.328 total time=   5.2s\n",
      "[CV 5/5] END C=10, epsilon=0.3, gamma=0.01, kernel=rbf;, score=0.336 total time=   5.2s\n",
      "[CV 1/5] END C=10, epsilon=0.3, gamma=0.001, kernel=rbf;, score=0.477 total time=   4.4s\n",
      "[CV 2/5] END C=10, epsilon=0.3, gamma=0.001, kernel=rbf;, score=0.364 total time=   4.3s\n",
      "[CV 3/5] END C=10, epsilon=0.3, gamma=0.001, kernel=rbf;, score=0.406 total time=   4.3s\n",
      "[CV 4/5] END C=10, epsilon=0.3, gamma=0.001, kernel=rbf;, score=0.408 total time=   4.4s\n",
      "[CV 5/5] END C=10, epsilon=0.3, gamma=0.001, kernel=rbf;, score=0.407 total time=   4.4s\n",
      "[CV 1/5] END C=10, epsilon=0.3, gamma=0.0001, kernel=rbf;, score=0.488 total time=   3.6s\n",
      "[CV 2/5] END C=10, epsilon=0.3, gamma=0.0001, kernel=rbf;, score=0.405 total time=   3.6s\n",
      "[CV 3/5] END C=10, epsilon=0.3, gamma=0.0001, kernel=rbf;, score=0.440 total time=   3.7s\n",
      "[CV 4/5] END C=10, epsilon=0.3, gamma=0.0001, kernel=rbf;, score=0.452 total time=   3.6s\n",
      "[CV 5/5] END C=10, epsilon=0.3, gamma=0.0001, kernel=rbf;, score=0.444 total time=   3.6s\n",
      "[CV 1/5] END C=100, epsilon=0.1, gamma=1, kernel=rbf;, score=0.343 total time=   6.2s\n",
      "[CV 2/5] END C=100, epsilon=0.1, gamma=1, kernel=rbf;, score=0.240 total time=   6.2s\n",
      "[CV 3/5] END C=100, epsilon=0.1, gamma=1, kernel=rbf;, score=0.259 total time=   6.2s\n",
      "[CV 4/5] END C=100, epsilon=0.1, gamma=1, kernel=rbf;, score=0.261 total time=   6.2s\n",
      "[CV 5/5] END C=100, epsilon=0.1, gamma=1, kernel=rbf;, score=0.262 total time=   6.2s\n",
      "[CV 1/5] END C=100, epsilon=0.1, gamma=0.1, kernel=rbf;, score=0.506 total time=   6.5s\n",
      "[CV 2/5] END C=100, epsilon=0.1, gamma=0.1, kernel=rbf;, score=0.395 total time=   6.5s\n",
      "[CV 3/5] END C=100, epsilon=0.1, gamma=0.1, kernel=rbf;, score=0.447 total time=   6.4s\n",
      "[CV 4/5] END C=100, epsilon=0.1, gamma=0.1, kernel=rbf;, score=0.425 total time=   6.6s\n",
      "[CV 5/5] END C=100, epsilon=0.1, gamma=0.1, kernel=rbf;, score=0.415 total time=   6.4s\n",
      "[CV 1/5] END C=100, epsilon=0.1, gamma=0.01, kernel=rbf;, score=0.539 total time=   5.8s\n",
      "[CV 2/5] END C=100, epsilon=0.1, gamma=0.01, kernel=rbf;, score=0.444 total time=   5.8s\n",
      "[CV 3/5] END C=100, epsilon=0.1, gamma=0.01, kernel=rbf;, score=0.485 total time=   5.7s\n",
      "[CV 4/5] END C=100, epsilon=0.1, gamma=0.01, kernel=rbf;, score=0.492 total time=   5.8s\n",
      "[CV 5/5] END C=100, epsilon=0.1, gamma=0.01, kernel=rbf;, score=0.482 total time=   5.8s\n",
      "[CV 1/5] END C=100, epsilon=0.1, gamma=0.001, kernel=rbf;, score=0.536 total time=   4.6s\n",
      "[CV 2/5] END C=100, epsilon=0.1, gamma=0.001, kernel=rbf;, score=0.461 total time=   4.7s\n",
      "[CV 3/5] END C=100, epsilon=0.1, gamma=0.001, kernel=rbf;, score=0.501 total time=   4.7s\n",
      "[CV 4/5] END C=100, epsilon=0.1, gamma=0.001, kernel=rbf;, score=0.523 total time=   4.6s\n",
      "[CV 5/5] END C=100, epsilon=0.1, gamma=0.001, kernel=rbf;, score=0.510 total time=   4.6s\n",
      "[CV 1/5] END C=100, epsilon=0.1, gamma=0.0001, kernel=rbf;, score=0.526 total time=   3.8s\n",
      "[CV 2/5] END C=100, epsilon=0.1, gamma=0.0001, kernel=rbf;, score=0.464 total time=   4.0s\n",
      "[CV 3/5] END C=100, epsilon=0.1, gamma=0.0001, kernel=rbf;, score=0.509 total time=   4.0s\n",
      "[CV 4/5] END C=100, epsilon=0.1, gamma=0.0001, kernel=rbf;, score=0.521 total time=   4.0s\n",
      "[CV 5/5] END C=100, epsilon=0.1, gamma=0.0001, kernel=rbf;, score=0.510 total time=   4.0s\n",
      "[CV 1/5] END C=100, epsilon=0.2, gamma=1, kernel=rbf;, score=0.343 total time=   6.2s\n",
      "[CV 2/5] END C=100, epsilon=0.2, gamma=1, kernel=rbf;, score=0.240 total time=   6.1s\n",
      "[CV 3/5] END C=100, epsilon=0.2, gamma=1, kernel=rbf;, score=0.260 total time=   6.2s\n",
      "[CV 4/5] END C=100, epsilon=0.2, gamma=1, kernel=rbf;, score=0.261 total time=   6.2s\n",
      "[CV 5/5] END C=100, epsilon=0.2, gamma=1, kernel=rbf;, score=0.262 total time=   6.1s\n",
      "[CV 1/5] END C=100, epsilon=0.2, gamma=0.1, kernel=rbf;, score=0.506 total time=   6.5s\n",
      "[CV 2/5] END C=100, epsilon=0.2, gamma=0.1, kernel=rbf;, score=0.395 total time=   6.5s\n",
      "[CV 3/5] END C=100, epsilon=0.2, gamma=0.1, kernel=rbf;, score=0.448 total time=   6.5s\n",
      "[CV 4/5] END C=100, epsilon=0.2, gamma=0.1, kernel=rbf;, score=0.425 total time=   6.5s\n",
      "[CV 5/5] END C=100, epsilon=0.2, gamma=0.1, kernel=rbf;, score=0.415 total time=   6.4s\n",
      "[CV 1/5] END C=100, epsilon=0.2, gamma=0.01, kernel=rbf;, score=0.539 total time=   5.8s\n",
      "[CV 2/5] END C=100, epsilon=0.2, gamma=0.01, kernel=rbf;, score=0.444 total time=   5.8s\n",
      "[CV 3/5] END C=100, epsilon=0.2, gamma=0.01, kernel=rbf;, score=0.485 total time=   5.7s\n",
      "[CV 4/5] END C=100, epsilon=0.2, gamma=0.01, kernel=rbf;, score=0.492 total time=   5.7s\n",
      "[CV 5/5] END C=100, epsilon=0.2, gamma=0.01, kernel=rbf;, score=0.482 total time=   5.8s\n",
      "[CV 1/5] END C=100, epsilon=0.2, gamma=0.001, kernel=rbf;, score=0.536 total time=   4.7s\n",
      "[CV 2/5] END C=100, epsilon=0.2, gamma=0.001, kernel=rbf;, score=0.461 total time=   4.7s\n",
      "[CV 3/5] END C=100, epsilon=0.2, gamma=0.001, kernel=rbf;, score=0.502 total time=   4.7s\n",
      "[CV 4/5] END C=100, epsilon=0.2, gamma=0.001, kernel=rbf;, score=0.523 total time=   4.8s\n",
      "[CV 5/5] END C=100, epsilon=0.2, gamma=0.001, kernel=rbf;, score=0.510 total time=   4.8s\n",
      "[CV 1/5] END C=100, epsilon=0.2, gamma=0.0001, kernel=rbf;, score=0.526 total time=   3.9s\n",
      "[CV 2/5] END C=100, epsilon=0.2, gamma=0.0001, kernel=rbf;, score=0.464 total time=   3.9s\n",
      "[CV 3/5] END C=100, epsilon=0.2, gamma=0.0001, kernel=rbf;, score=0.509 total time=   3.9s\n",
      "[CV 4/5] END C=100, epsilon=0.2, gamma=0.0001, kernel=rbf;, score=0.521 total time=   4.0s\n",
      "[CV 5/5] END C=100, epsilon=0.2, gamma=0.0001, kernel=rbf;, score=0.510 total time=   4.1s\n",
      "[CV 1/5] END C=100, epsilon=0.3, gamma=1, kernel=rbf;, score=0.343 total time=   6.2s\n",
      "[CV 2/5] END C=100, epsilon=0.3, gamma=1, kernel=rbf;, score=0.240 total time=   6.1s\n",
      "[CV 3/5] END C=100, epsilon=0.3, gamma=1, kernel=rbf;, score=0.260 total time=   6.1s\n",
      "[CV 4/5] END C=100, epsilon=0.3, gamma=1, kernel=rbf;, score=0.262 total time=   6.1s\n",
      "[CV 5/5] END C=100, epsilon=0.3, gamma=1, kernel=rbf;, score=0.262 total time=   6.1s\n",
      "[CV 1/5] END C=100, epsilon=0.3, gamma=0.1, kernel=rbf;, score=0.506 total time=   6.5s\n",
      "[CV 2/5] END C=100, epsilon=0.3, gamma=0.1, kernel=rbf;, score=0.395 total time=   6.6s\n",
      "[CV 3/5] END C=100, epsilon=0.3, gamma=0.1, kernel=rbf;, score=0.448 total time=   6.5s\n",
      "[CV 4/5] END C=100, epsilon=0.3, gamma=0.1, kernel=rbf;, score=0.425 total time=   6.6s\n",
      "[CV 5/5] END C=100, epsilon=0.3, gamma=0.1, kernel=rbf;, score=0.415 total time=   6.5s\n",
      "[CV 1/5] END C=100, epsilon=0.3, gamma=0.01, kernel=rbf;, score=0.539 total time=   5.8s\n",
      "[CV 2/5] END C=100, epsilon=0.3, gamma=0.01, kernel=rbf;, score=0.444 total time=   5.8s\n",
      "[CV 3/5] END C=100, epsilon=0.3, gamma=0.01, kernel=rbf;, score=0.485 total time=   5.7s\n",
      "[CV 4/5] END C=100, epsilon=0.3, gamma=0.01, kernel=rbf;, score=0.492 total time=   5.7s\n",
      "[CV 5/5] END C=100, epsilon=0.3, gamma=0.01, kernel=rbf;, score=0.482 total time=   5.7s\n",
      "[CV 1/5] END C=100, epsilon=0.3, gamma=0.001, kernel=rbf;, score=0.536 total time=   4.8s\n",
      "[CV 2/5] END C=100, epsilon=0.3, gamma=0.001, kernel=rbf;, score=0.461 total time=   4.7s\n",
      "[CV 3/5] END C=100, epsilon=0.3, gamma=0.001, kernel=rbf;, score=0.502 total time=   4.7s\n",
      "[CV 4/5] END C=100, epsilon=0.3, gamma=0.001, kernel=rbf;, score=0.523 total time=   4.7s\n",
      "[CV 5/5] END C=100, epsilon=0.3, gamma=0.001, kernel=rbf;, score=0.510 total time=   4.8s\n",
      "[CV 1/5] END C=100, epsilon=0.3, gamma=0.0001, kernel=rbf;, score=0.526 total time=   3.9s\n",
      "[CV 2/5] END C=100, epsilon=0.3, gamma=0.0001, kernel=rbf;, score=0.464 total time=   4.0s\n",
      "[CV 3/5] END C=100, epsilon=0.3, gamma=0.0001, kernel=rbf;, score=0.509 total time=   4.0s\n",
      "[CV 4/5] END C=100, epsilon=0.3, gamma=0.0001, kernel=rbf;, score=0.521 total time=   4.0s\n",
      "[CV 5/5] END C=100, epsilon=0.3, gamma=0.0001, kernel=rbf;, score=0.510 total time=   4.1s\n",
      "[CV 1/5] END C=1000, epsilon=0.1, gamma=1, kernel=rbf;, score=0.440 total time=   6.5s\n",
      "[CV 2/5] END C=1000, epsilon=0.1, gamma=1, kernel=rbf;, score=0.254 total time=   6.5s\n",
      "[CV 3/5] END C=1000, epsilon=0.1, gamma=1, kernel=rbf;, score=0.402 total time=   6.5s\n",
      "[CV 4/5] END C=1000, epsilon=0.1, gamma=1, kernel=rbf;, score=0.307 total time=   6.5s\n",
      "[CV 5/5] END C=1000, epsilon=0.1, gamma=1, kernel=rbf;, score=0.327 total time=   6.5s\n",
      "[CV 1/5] END C=1000, epsilon=0.1, gamma=0.1, kernel=rbf;, score=0.530 total time=  14.5s\n",
      "[CV 2/5] END C=1000, epsilon=0.1, gamma=0.1, kernel=rbf;, score=0.368 total time=  15.1s\n",
      "[CV 3/5] END C=1000, epsilon=0.1, gamma=0.1, kernel=rbf;, score=0.501 total time=  14.6s\n",
      "[CV 4/5] END C=1000, epsilon=0.1, gamma=0.1, kernel=rbf;, score=0.427 total time=  16.7s\n",
      "[CV 5/5] END C=1000, epsilon=0.1, gamma=0.1, kernel=rbf;, score=0.431 total time=  16.1s\n",
      "[CV 1/5] END C=1000, epsilon=0.1, gamma=0.01, kernel=rbf;, score=0.438 total time=  11.3s\n",
      "[CV 2/5] END C=1000, epsilon=0.1, gamma=0.01, kernel=rbf;, score=0.429 total time=  10.2s\n",
      "[CV 3/5] END C=1000, epsilon=0.1, gamma=0.01, kernel=rbf;, score=0.513 total time=   9.7s\n",
      "[CV 4/5] END C=1000, epsilon=0.1, gamma=0.01, kernel=rbf;, score=0.488 total time=   9.8s\n",
      "[CV 5/5] END C=1000, epsilon=0.1, gamma=0.01, kernel=rbf;, score=0.474 total time=  10.5s\n",
      "[CV 1/5] END C=1000, epsilon=0.1, gamma=0.001, kernel=rbf;, score=0.535 total time=   6.6s\n",
      "[CV 2/5] END C=1000, epsilon=0.1, gamma=0.001, kernel=rbf;, score=0.475 total time=   6.3s\n",
      "[CV 3/5] END C=1000, epsilon=0.1, gamma=0.001, kernel=rbf;, score=0.525 total time=   6.5s\n",
      "[CV 4/5] END C=1000, epsilon=0.1, gamma=0.001, kernel=rbf;, score=0.545 total time=   6.4s\n",
      "[CV 5/5] END C=1000, epsilon=0.1, gamma=0.001, kernel=rbf;, score=0.531 total time=   6.0s\n",
      "[CV 1/5] END C=1000, epsilon=0.1, gamma=0.0001, kernel=rbf;, score=0.542 total time=   4.6s\n",
      "[CV 2/5] END C=1000, epsilon=0.1, gamma=0.0001, kernel=rbf;, score=0.491 total time=   4.8s\n",
      "[CV 3/5] END C=1000, epsilon=0.1, gamma=0.0001, kernel=rbf;, score=0.526 total time=   4.8s\n",
      "[CV 4/5] END C=1000, epsilon=0.1, gamma=0.0001, kernel=rbf;, score=0.533 total time=   4.6s\n",
      "[CV 5/5] END C=1000, epsilon=0.1, gamma=0.0001, kernel=rbf;, score=0.541 total time=   4.9s\n",
      "[CV 1/5] END C=1000, epsilon=0.2, gamma=1, kernel=rbf;, score=0.440 total time=   6.5s\n",
      "[CV 2/5] END C=1000, epsilon=0.2, gamma=1, kernel=rbf;, score=0.254 total time=   6.4s\n",
      "[CV 3/5] END C=1000, epsilon=0.2, gamma=1, kernel=rbf;, score=0.402 total time=   6.5s\n",
      "[CV 4/5] END C=1000, epsilon=0.2, gamma=1, kernel=rbf;, score=0.307 total time=   6.4s\n",
      "[CV 5/5] END C=1000, epsilon=0.2, gamma=1, kernel=rbf;, score=0.327 total time=   6.5s\n",
      "[CV 1/5] END C=1000, epsilon=0.2, gamma=0.1, kernel=rbf;, score=0.530 total time=  14.6s\n",
      "[CV 2/5] END C=1000, epsilon=0.2, gamma=0.1, kernel=rbf;, score=0.368 total time=  15.5s\n",
      "[CV 3/5] END C=1000, epsilon=0.2, gamma=0.1, kernel=rbf;, score=0.502 total time=  14.0s\n",
      "[CV 4/5] END C=1000, epsilon=0.2, gamma=0.1, kernel=rbf;, score=0.428 total time=  14.9s\n",
      "[CV 5/5] END C=1000, epsilon=0.2, gamma=0.1, kernel=rbf;, score=0.431 total time=  14.3s\n",
      "[CV 1/5] END C=1000, epsilon=0.2, gamma=0.01, kernel=rbf;, score=0.438 total time=   9.8s\n",
      "[CV 2/5] END C=1000, epsilon=0.2, gamma=0.01, kernel=rbf;, score=0.429 total time=   9.6s\n",
      "[CV 3/5] END C=1000, epsilon=0.2, gamma=0.01, kernel=rbf;, score=0.514 total time=   9.7s\n",
      "[CV 4/5] END C=1000, epsilon=0.2, gamma=0.01, kernel=rbf;, score=0.488 total time=   9.4s\n",
      "[CV 5/5] END C=1000, epsilon=0.2, gamma=0.01, kernel=rbf;, score=0.474 total time=  10.4s\n",
      "[CV 1/5] END C=1000, epsilon=0.2, gamma=0.001, kernel=rbf;, score=0.535 total time=   6.3s\n",
      "[CV 2/5] END C=1000, epsilon=0.2, gamma=0.001, kernel=rbf;, score=0.475 total time=   6.4s\n",
      "[CV 3/5] END C=1000, epsilon=0.2, gamma=0.001, kernel=rbf;, score=0.525 total time=   6.0s\n",
      "[CV 4/5] END C=1000, epsilon=0.2, gamma=0.001, kernel=rbf;, score=0.544 total time=   6.1s\n",
      "[CV 5/5] END C=1000, epsilon=0.2, gamma=0.001, kernel=rbf;, score=0.531 total time=   6.2s\n",
      "[CV 1/5] END C=1000, epsilon=0.2, gamma=0.0001, kernel=rbf;, score=0.542 total time=   4.8s\n",
      "[CV 2/5] END C=1000, epsilon=0.2, gamma=0.0001, kernel=rbf;, score=0.491 total time=   4.7s\n",
      "[CV 3/5] END C=1000, epsilon=0.2, gamma=0.0001, kernel=rbf;, score=0.526 total time=   4.7s\n",
      "[CV 4/5] END C=1000, epsilon=0.2, gamma=0.0001, kernel=rbf;, score=0.533 total time=   4.6s\n",
      "[CV 5/5] END C=1000, epsilon=0.2, gamma=0.0001, kernel=rbf;, score=0.541 total time=   4.4s\n",
      "[CV 1/5] END C=1000, epsilon=0.3, gamma=1, kernel=rbf;, score=0.440 total time=   6.3s\n",
      "[CV 2/5] END C=1000, epsilon=0.3, gamma=1, kernel=rbf;, score=0.254 total time=   6.4s\n",
      "[CV 3/5] END C=1000, epsilon=0.3, gamma=1, kernel=rbf;, score=0.402 total time=   6.3s\n",
      "[CV 4/5] END C=1000, epsilon=0.3, gamma=1, kernel=rbf;, score=0.307 total time=   6.3s\n",
      "[CV 5/5] END C=1000, epsilon=0.3, gamma=1, kernel=rbf;, score=0.327 total time=   6.3s\n",
      "[CV 1/5] END C=1000, epsilon=0.3, gamma=0.1, kernel=rbf;, score=0.530 total time=  15.1s\n",
      "[CV 2/5] END C=1000, epsilon=0.3, gamma=0.1, kernel=rbf;, score=0.368 total time=  14.5s\n",
      "[CV 3/5] END C=1000, epsilon=0.3, gamma=0.1, kernel=rbf;, score=0.502 total time=  13.6s\n",
      "[CV 4/5] END C=1000, epsilon=0.3, gamma=0.1, kernel=rbf;, score=0.428 total time=  14.7s\n",
      "[CV 5/5] END C=1000, epsilon=0.3, gamma=0.1, kernel=rbf;, score=0.431 total time=  13.6s\n",
      "[CV 1/5] END C=1000, epsilon=0.3, gamma=0.01, kernel=rbf;, score=0.438 total time=  10.2s\n",
      "[CV 2/5] END C=1000, epsilon=0.3, gamma=0.01, kernel=rbf;, score=0.429 total time=   9.8s\n",
      "[CV 3/5] END C=1000, epsilon=0.3, gamma=0.01, kernel=rbf;, score=0.514 total time=   9.4s\n",
      "[CV 4/5] END C=1000, epsilon=0.3, gamma=0.01, kernel=rbf;, score=0.488 total time=   9.7s\n",
      "[CV 5/5] END C=1000, epsilon=0.3, gamma=0.01, kernel=rbf;, score=0.474 total time=   9.9s\n",
      "[CV 1/5] END C=1000, epsilon=0.3, gamma=0.001, kernel=rbf;, score=0.535 total time=   6.5s\n",
      "[CV 2/5] END C=1000, epsilon=0.3, gamma=0.001, kernel=rbf;, score=0.475 total time=   6.0s\n",
      "[CV 3/5] END C=1000, epsilon=0.3, gamma=0.001, kernel=rbf;, score=0.525 total time=   6.2s\n",
      "[CV 4/5] END C=1000, epsilon=0.3, gamma=0.001, kernel=rbf;, score=0.545 total time=   6.0s\n",
      "[CV 5/5] END C=1000, epsilon=0.3, gamma=0.001, kernel=rbf;, score=0.531 total time=   5.9s\n",
      "[CV 1/5] END C=1000, epsilon=0.3, gamma=0.0001, kernel=rbf;, score=0.542 total time=   4.6s\n",
      "[CV 2/5] END C=1000, epsilon=0.3, gamma=0.0001, kernel=rbf;, score=0.491 total time=   4.6s\n",
      "[CV 3/5] END C=1000, epsilon=0.3, gamma=0.0001, kernel=rbf;, score=0.526 total time=   4.7s\n",
      "[CV 4/5] END C=1000, epsilon=0.3, gamma=0.0001, kernel=rbf;, score=0.533 total time=   4.7s\n",
      "[CV 5/5] END C=1000, epsilon=0.3, gamma=0.0001, kernel=rbf;, score=0.541 total time=   4.7s\n"
     ]
    },
    {
     "data": {
      "text/html": [
       "<style>#sk-container-id-1 {color: black;background-color: white;}#sk-container-id-1 pre{padding: 0;}#sk-container-id-1 div.sk-toggleable {background-color: white;}#sk-container-id-1 label.sk-toggleable__label {cursor: pointer;display: block;width: 100%;margin-bottom: 0;padding: 0.3em;box-sizing: border-box;text-align: center;}#sk-container-id-1 label.sk-toggleable__label-arrow:before {content: \"▸\";float: left;margin-right: 0.25em;color: #696969;}#sk-container-id-1 label.sk-toggleable__label-arrow:hover:before {color: black;}#sk-container-id-1 div.sk-estimator:hover label.sk-toggleable__label-arrow:before {color: black;}#sk-container-id-1 div.sk-toggleable__content {max-height: 0;max-width: 0;overflow: hidden;text-align: left;background-color: #f0f8ff;}#sk-container-id-1 div.sk-toggleable__content pre {margin: 0.2em;color: black;border-radius: 0.25em;background-color: #f0f8ff;}#sk-container-id-1 input.sk-toggleable__control:checked~div.sk-toggleable__content {max-height: 200px;max-width: 100%;overflow: auto;}#sk-container-id-1 input.sk-toggleable__control:checked~label.sk-toggleable__label-arrow:before {content: \"▾\";}#sk-container-id-1 div.sk-estimator input.sk-toggleable__control:checked~label.sk-toggleable__label {background-color: #d4ebff;}#sk-container-id-1 div.sk-label input.sk-toggleable__control:checked~label.sk-toggleable__label {background-color: #d4ebff;}#sk-container-id-1 input.sk-hidden--visually {border: 0;clip: rect(1px 1px 1px 1px);clip: rect(1px, 1px, 1px, 1px);height: 1px;margin: -1px;overflow: hidden;padding: 0;position: absolute;width: 1px;}#sk-container-id-1 div.sk-estimator {font-family: monospace;background-color: #f0f8ff;border: 1px dotted black;border-radius: 0.25em;box-sizing: border-box;margin-bottom: 0.5em;}#sk-container-id-1 div.sk-estimator:hover {background-color: #d4ebff;}#sk-container-id-1 div.sk-parallel-item::after {content: \"\";width: 100%;border-bottom: 1px solid gray;flex-grow: 1;}#sk-container-id-1 div.sk-label:hover label.sk-toggleable__label {background-color: #d4ebff;}#sk-container-id-1 div.sk-serial::before {content: \"\";position: absolute;border-left: 1px solid gray;box-sizing: border-box;top: 0;bottom: 0;left: 50%;z-index: 0;}#sk-container-id-1 div.sk-serial {display: flex;flex-direction: column;align-items: center;background-color: white;padding-right: 0.2em;padding-left: 0.2em;position: relative;}#sk-container-id-1 div.sk-item {position: relative;z-index: 1;}#sk-container-id-1 div.sk-parallel {display: flex;align-items: stretch;justify-content: center;background-color: white;position: relative;}#sk-container-id-1 div.sk-item::before, #sk-container-id-1 div.sk-parallel-item::before {content: \"\";position: absolute;border-left: 1px solid gray;box-sizing: border-box;top: 0;bottom: 0;left: 50%;z-index: -1;}#sk-container-id-1 div.sk-parallel-item {display: flex;flex-direction: column;z-index: 1;position: relative;background-color: white;}#sk-container-id-1 div.sk-parallel-item:first-child::after {align-self: flex-end;width: 50%;}#sk-container-id-1 div.sk-parallel-item:last-child::after {align-self: flex-start;width: 50%;}#sk-container-id-1 div.sk-parallel-item:only-child::after {width: 0;}#sk-container-id-1 div.sk-dashed-wrapped {border: 1px dashed gray;margin: 0 0.4em 0.5em 0.4em;box-sizing: border-box;padding-bottom: 0.4em;background-color: white;}#sk-container-id-1 div.sk-label label {font-family: monospace;font-weight: bold;display: inline-block;line-height: 1.2em;}#sk-container-id-1 div.sk-label-container {text-align: center;}#sk-container-id-1 div.sk-container {/* jupyter's `normalize.less` sets `[hidden] { display: none; }` but bootstrap.min.css set `[hidden] { display: none !important; }` so we also need the `!important` here to be able to override the default hidden behavior on the sphinx rendered scikit-learn.org. See: https://github.com/scikit-learn/scikit-learn/issues/21755 */display: inline-block !important;position: relative;}#sk-container-id-1 div.sk-text-repr-fallback {display: none;}</style><div id=\"sk-container-id-1\" class=\"sk-top-container\"><div class=\"sk-text-repr-fallback\"><pre>GridSearchCV(cv=5, estimator=SVR(),\n",
       "             param_grid={&#x27;C&#x27;: [0.1, 1, 10, 100, 1000],\n",
       "                         &#x27;epsilon&#x27;: [0.1, 0.2, 0.3],\n",
       "                         &#x27;gamma&#x27;: [1, 0.1, 0.01, 0.001, 0.0001],\n",
       "                         &#x27;kernel&#x27;: [&#x27;rbf&#x27;]},\n",
       "             verbose=3)</pre><b>In a Jupyter environment, please rerun this cell to show the HTML representation or trust the notebook. <br />On GitHub, the HTML representation is unable to render, please try loading this page with nbviewer.org.</b></div><div class=\"sk-container\" hidden><div class=\"sk-item sk-dashed-wrapped\"><div class=\"sk-label-container\"><div class=\"sk-label sk-toggleable\"><input class=\"sk-toggleable__control sk-hidden--visually\" id=\"sk-estimator-id-1\" type=\"checkbox\" ><label for=\"sk-estimator-id-1\" class=\"sk-toggleable__label sk-toggleable__label-arrow\">GridSearchCV</label><div class=\"sk-toggleable__content\"><pre>GridSearchCV(cv=5, estimator=SVR(),\n",
       "             param_grid={&#x27;C&#x27;: [0.1, 1, 10, 100, 1000],\n",
       "                         &#x27;epsilon&#x27;: [0.1, 0.2, 0.3],\n",
       "                         &#x27;gamma&#x27;: [1, 0.1, 0.01, 0.001, 0.0001],\n",
       "                         &#x27;kernel&#x27;: [&#x27;rbf&#x27;]},\n",
       "             verbose=3)</pre></div></div></div><div class=\"sk-parallel\"><div class=\"sk-parallel-item\"><div class=\"sk-item\"><div class=\"sk-label-container\"><div class=\"sk-label sk-toggleable\"><input class=\"sk-toggleable__control sk-hidden--visually\" id=\"sk-estimator-id-2\" type=\"checkbox\" ><label for=\"sk-estimator-id-2\" class=\"sk-toggleable__label sk-toggleable__label-arrow\">estimator: SVR</label><div class=\"sk-toggleable__content\"><pre>SVR()</pre></div></div></div><div class=\"sk-serial\"><div class=\"sk-item\"><div class=\"sk-estimator sk-toggleable\"><input class=\"sk-toggleable__control sk-hidden--visually\" id=\"sk-estimator-id-3\" type=\"checkbox\" ><label for=\"sk-estimator-id-3\" class=\"sk-toggleable__label sk-toggleable__label-arrow\">SVR</label><div class=\"sk-toggleable__content\"><pre>SVR()</pre></div></div></div></div></div></div></div></div></div></div>"
      ],
      "text/plain": [
       "GridSearchCV(cv=5, estimator=SVR(),\n",
       "             param_grid={'C': [0.1, 1, 10, 100, 1000],\n",
       "                         'epsilon': [0.1, 0.2, 0.3],\n",
       "                         'gamma': [1, 0.1, 0.01, 0.001, 0.0001],\n",
       "                         'kernel': ['rbf']},\n",
       "             verbose=3)"
      ]
     },
     "execution_count": 49,
     "metadata": {},
     "output_type": "execute_result"
    }
   ],
   "source": [
    "grid.fit(x_train,y_train)"
   ]
  },
  {
   "cell_type": "code",
   "execution_count": 50,
   "id": "a9bfb195-4d48-4aef-b7d5-87786b114a50",
   "metadata": {},
   "outputs": [
    {
     "data": {
      "text/plain": [
       "{'C': 1000, 'epsilon': 0.3, 'gamma': 0.0001, 'kernel': 'rbf'}"
      ]
     },
     "execution_count": 50,
     "metadata": {},
     "output_type": "execute_result"
    }
   ],
   "source": [
    "grid.best_params_"
   ]
  },
  {
   "cell_type": "code",
   "execution_count": 53,
   "id": "c498924d-e421-4c13-8eaa-01a274ec20c8",
   "metadata": {},
   "outputs": [
    {
     "name": "stdout",
     "output_type": "stream",
     "text": [
      "0.5400999895478913\n"
     ]
    }
   ],
   "source": [
    "from sklearn.metrics import r2_score\n",
    "y_pred2=grid.predict(x_test)\n",
    "print(r2_score(y_test,y_pred2))"
   ]
  },
  {
   "cell_type": "code",
   "execution_count": null,
   "id": "9b502eec-f230-4dc3-afbc-3f28ea592c85",
   "metadata": {},
   "outputs": [],
   "source": []
  }
 ],
 "metadata": {
  "kernelspec": {
   "display_name": "Python 3 (ipykernel)",
   "language": "python",
   "name": "python3"
  },
  "language_info": {
   "codemirror_mode": {
    "name": "ipython",
    "version": 3
   },
   "file_extension": ".py",
   "mimetype": "text/x-python",
   "name": "python",
   "nbconvert_exporter": "python",
   "pygments_lexer": "ipython3",
   "version": "3.10.6"
  }
 },
 "nbformat": 4,
 "nbformat_minor": 5
}
